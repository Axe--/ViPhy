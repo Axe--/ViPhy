{
 "cells": [
  {
   "cell_type": "code",
   "execution_count": 1,
   "metadata": {
    "collapsed": true
   },
   "outputs": [],
   "source": [
    "import pandas as pd\n",
    "from collections import Counter\n",
    "from utils import read_json, sort_dict"
   ]
  },
  {
   "cell_type": "markdown",
   "source": [
    "## Color Dataset"
   ],
   "metadata": {
    "collapsed": false,
    "pycharm": {
     "name": "#%% md\n"
    }
   }
  },
  {
   "cell_type": "code",
   "execution_count": 2,
   "outputs": [],
   "source": [
    "df = pd.read_csv('../results/colors.csv')\n",
    "data = read_json('../results/colors.json')"
   ],
   "metadata": {
    "collapsed": false,
    "pycharm": {
     "name": "#%%\n"
    }
   }
  },
  {
   "cell_type": "markdown",
   "source": [
    "### Typical Colors\n"
   ],
   "metadata": {
    "collapsed": false,
    "pycharm": {
     "name": "#%% md\n"
    }
   }
  },
  {
   "cell_type": "code",
   "execution_count": 9,
   "outputs": [],
   "source": [
    "_names = df['object'].tolist()\n",
    "\n",
    "df['typical'] = [','.join(list(data[_])) for _ in _names]\n"
   ],
   "metadata": {
    "collapsed": false,
    "pycharm": {
     "name": "#%%\n"
    }
   }
  },
  {
   "cell_type": "code",
   "execution_count": 10,
   "outputs": [
    {
     "data": {
      "text/plain": "          object  entropy  total  red  orange  yellow  brown  green  blue  \\\n0      steel tap      0.0     45  0.0     0.0     0.0    0.0    0.0   0.0   \n1   metal silver      0.0    105  0.0     0.0     0.0    0.0    0.0   0.0   \n2  chrome hubcap      0.0     10  0.0     0.0     0.0    0.0    0.0   0.0   \n3  chrome faucet      0.0    166  0.0     0.0     0.0    0.0    0.0   0.0   \n4   steel faucet      0.0    120  0.0     0.0     0.0    0.0    0.0   0.0   \n\n   purple  pink  white  gray  black typical  \n0     0.0   0.0    0.0   1.0    0.0    gray  \n1     0.0   0.0    0.0   1.0    0.0    gray  \n2     0.0   0.0    0.0   1.0    0.0    gray  \n3     0.0   0.0    0.0   1.0    0.0    gray  \n4     0.0   0.0    0.0   1.0    0.0    gray  ",
      "text/html": "<div>\n<style scoped>\n    .dataframe tbody tr th:only-of-type {\n        vertical-align: middle;\n    }\n\n    .dataframe tbody tr th {\n        vertical-align: top;\n    }\n\n    .dataframe thead th {\n        text-align: right;\n    }\n</style>\n<table border=\"1\" class=\"dataframe\">\n  <thead>\n    <tr style=\"text-align: right;\">\n      <th></th>\n      <th>object</th>\n      <th>entropy</th>\n      <th>total</th>\n      <th>red</th>\n      <th>orange</th>\n      <th>yellow</th>\n      <th>brown</th>\n      <th>green</th>\n      <th>blue</th>\n      <th>purple</th>\n      <th>pink</th>\n      <th>white</th>\n      <th>gray</th>\n      <th>black</th>\n      <th>typical</th>\n    </tr>\n  </thead>\n  <tbody>\n    <tr>\n      <th>0</th>\n      <td>steel tap</td>\n      <td>0.0</td>\n      <td>45</td>\n      <td>0.0</td>\n      <td>0.0</td>\n      <td>0.0</td>\n      <td>0.0</td>\n      <td>0.0</td>\n      <td>0.0</td>\n      <td>0.0</td>\n      <td>0.0</td>\n      <td>0.0</td>\n      <td>1.0</td>\n      <td>0.0</td>\n      <td>gray</td>\n    </tr>\n    <tr>\n      <th>1</th>\n      <td>metal silver</td>\n      <td>0.0</td>\n      <td>105</td>\n      <td>0.0</td>\n      <td>0.0</td>\n      <td>0.0</td>\n      <td>0.0</td>\n      <td>0.0</td>\n      <td>0.0</td>\n      <td>0.0</td>\n      <td>0.0</td>\n      <td>0.0</td>\n      <td>1.0</td>\n      <td>0.0</td>\n      <td>gray</td>\n    </tr>\n    <tr>\n      <th>2</th>\n      <td>chrome hubcap</td>\n      <td>0.0</td>\n      <td>10</td>\n      <td>0.0</td>\n      <td>0.0</td>\n      <td>0.0</td>\n      <td>0.0</td>\n      <td>0.0</td>\n      <td>0.0</td>\n      <td>0.0</td>\n      <td>0.0</td>\n      <td>0.0</td>\n      <td>1.0</td>\n      <td>0.0</td>\n      <td>gray</td>\n    </tr>\n    <tr>\n      <th>3</th>\n      <td>chrome faucet</td>\n      <td>0.0</td>\n      <td>166</td>\n      <td>0.0</td>\n      <td>0.0</td>\n      <td>0.0</td>\n      <td>0.0</td>\n      <td>0.0</td>\n      <td>0.0</td>\n      <td>0.0</td>\n      <td>0.0</td>\n      <td>0.0</td>\n      <td>1.0</td>\n      <td>0.0</td>\n      <td>gray</td>\n    </tr>\n    <tr>\n      <th>4</th>\n      <td>steel faucet</td>\n      <td>0.0</td>\n      <td>120</td>\n      <td>0.0</td>\n      <td>0.0</td>\n      <td>0.0</td>\n      <td>0.0</td>\n      <td>0.0</td>\n      <td>0.0</td>\n      <td>0.0</td>\n      <td>0.0</td>\n      <td>0.0</td>\n      <td>1.0</td>\n      <td>0.0</td>\n      <td>gray</td>\n    </tr>\n  </tbody>\n</table>\n</div>"
     },
     "execution_count": 10,
     "metadata": {},
     "output_type": "execute_result"
    }
   ],
   "source": [
    "df.head()\n"
   ],
   "metadata": {
    "collapsed": false,
    "pycharm": {
     "name": "#%%\n"
    }
   }
  },
  {
   "cell_type": "code",
   "execution_count": 38,
   "outputs": [
    {
     "data": {
      "text/plain": "     color  freq\n0    white  7634\n1    black  6181\n2    brown  5141\n3     gray  4362\n4     blue  3200\n5      red  2550\n6   yellow  1720\n7    green  1653\n8   orange  1031\n9     pink   236\n10  purple    67",
      "text/html": "<div>\n<style scoped>\n    .dataframe tbody tr th:only-of-type {\n        vertical-align: middle;\n    }\n\n    .dataframe tbody tr th {\n        vertical-align: top;\n    }\n\n    .dataframe thead th {\n        text-align: right;\n    }\n</style>\n<table border=\"1\" class=\"dataframe\">\n  <thead>\n    <tr style=\"text-align: right;\">\n      <th></th>\n      <th>color</th>\n      <th>freq</th>\n    </tr>\n  </thead>\n  <tbody>\n    <tr>\n      <th>0</th>\n      <td>white</td>\n      <td>7634</td>\n    </tr>\n    <tr>\n      <th>1</th>\n      <td>black</td>\n      <td>6181</td>\n    </tr>\n    <tr>\n      <th>2</th>\n      <td>brown</td>\n      <td>5141</td>\n    </tr>\n    <tr>\n      <th>3</th>\n      <td>gray</td>\n      <td>4362</td>\n    </tr>\n    <tr>\n      <th>4</th>\n      <td>blue</td>\n      <td>3200</td>\n    </tr>\n    <tr>\n      <th>5</th>\n      <td>red</td>\n      <td>2550</td>\n    </tr>\n    <tr>\n      <th>6</th>\n      <td>yellow</td>\n      <td>1720</td>\n    </tr>\n    <tr>\n      <th>7</th>\n      <td>green</td>\n      <td>1653</td>\n    </tr>\n    <tr>\n      <th>8</th>\n      <td>orange</td>\n      <td>1031</td>\n    </tr>\n    <tr>\n      <th>9</th>\n      <td>pink</td>\n      <td>236</td>\n    </tr>\n    <tr>\n      <th>10</th>\n      <td>purple</td>\n      <td>67</td>\n    </tr>\n  </tbody>\n</table>\n</div>"
     },
     "execution_count": 38,
     "metadata": {},
     "output_type": "execute_result"
    }
   ],
   "source": [
    "typ_cols = []\n",
    "for _, col2freq in data.items():\n",
    "    typ_cols += list(col2freq)\n",
    "\n",
    "typ_cols = dict(Counter(typ_cols))\n",
    "typ_cols = sort_dict(typ_cols, by='v', reverse=True)\n",
    "\n",
    "pd.DataFrame(typ_cols.items(), columns=['color', 'freq'])"
   ],
   "metadata": {
    "collapsed": false,
    "pycharm": {
     "name": "#%%\n"
    }
   }
  },
  {
   "cell_type": "code",
   "execution_count": null,
   "outputs": [],
   "source": [
    "# _df.plot.bar(x='object', stacked=True, color=color_set,\n",
    "#              edgecolor=\"lightgray\", figsize=(40, 24), rot=90)\n",
    "# plt.xticks(fontsize=16); plt.legend(loc=(1.02, 0)); plt.show()"
   ],
   "metadata": {
    "collapsed": false,
    "pycharm": {
     "name": "#%%\n"
    }
   }
  },
  {
   "cell_type": "markdown",
   "source": [
    "### Uni-Bi-Tri-Many (UBTM)"
   ],
   "metadata": {
    "collapsed": false,
    "pycharm": {
     "name": "#%% md\n"
    }
   }
  },
  {
   "cell_type": "code",
   "execution_count": 12,
   "outputs": [
    {
     "data": {
      "text/plain": "uni     5485\nmany    3864\nbi      3388\ntri     1606\nName: category, dtype: int64"
     },
     "execution_count": 12,
     "metadata": {},
     "output_type": "execute_result"
    }
   ],
   "source": [
    "def _typ2cat(cols: str) -> str:\n",
    "    n = len(cols.split(','))\n",
    "    if n == 1:\n",
    "        return 'uni'\n",
    "    elif n == 2:\n",
    "        return 'bi'\n",
    "    elif n == 3:\n",
    "        return 'tri'\n",
    "    else:\n",
    "        return 'many'\n",
    "\n",
    "df['category'] = df['typical'].apply(lambda x: _typ2cat(x))\n",
    "\n",
    "df['category'].value_counts()"
   ],
   "metadata": {
    "collapsed": false,
    "pycharm": {
     "name": "#%%\n"
    }
   }
  },
  {
   "cell_type": "code",
   "execution_count": null,
   "outputs": [],
   "source": [],
   "metadata": {
    "collapsed": false,
    "pycharm": {
     "name": "#%%\n"
    }
   }
  },
  {
   "cell_type": "markdown",
   "source": [
    "### Object Frequency"
   ],
   "metadata": {
    "collapsed": false,
    "pycharm": {
     "name": "#%% md\n"
    }
   }
  },
  {
   "cell_type": "code",
   "execution_count": 41,
   "outputs": [
    {
     "data": {
      "text/plain": "count    14343.000000\nmean       529.314160\nstd       1562.560102\nmin          1.000000\n25%         41.000000\n50%        127.000000\n75%        411.000000\nmax      54592.000000\nName: total, dtype: float64"
     },
     "execution_count": 41,
     "metadata": {},
     "output_type": "execute_result"
    }
   ],
   "source": [
    "df['total'].describe()"
   ],
   "metadata": {
    "collapsed": false,
    "pycharm": {
     "name": "#%%\n"
    }
   }
  },
  {
   "cell_type": "code",
   "execution_count": 42,
   "outputs": [
    {
     "data": {
      "text/plain": "9    82\n8    65\n7    43\n6    29\n5    28\n4    21\n2    12\n3    10\n1     7\nName: total, dtype: int64"
     },
     "execution_count": 42,
     "metadata": {},
     "output_type": "execute_result"
    }
   ],
   "source": [
    "df[df['total'] < 10]['total'].value_counts()"
   ],
   "metadata": {
    "collapsed": false,
    "pycharm": {
     "name": "#%%\n"
    }
   }
  },
  {
   "cell_type": "code",
   "execution_count": null,
   "outputs": [],
   "source": [],
   "metadata": {
    "collapsed": false,
    "pycharm": {
     "name": "#%%\n"
    }
   }
  }
 ],
 "metadata": {
  "kernelspec": {
   "display_name": "Python 3",
   "language": "python",
   "name": "python3"
  },
  "language_info": {
   "codemirror_mode": {
    "name": "ipython",
    "version": 2
   },
   "file_extension": ".py",
   "mimetype": "text/x-python",
   "name": "python",
   "nbconvert_exporter": "python",
   "pygments_lexer": "ipython2",
   "version": "2.7.6"
  }
 },
 "nbformat": 4,
 "nbformat_minor": 0
}