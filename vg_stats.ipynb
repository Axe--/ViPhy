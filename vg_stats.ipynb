{
 "cells": [
  {
   "cell_type": "code",
   "execution_count": 2,
   "metadata": {
    "collapsed": true,
    "pycharm": {
     "name": "#%%\n"
    }
   },
   "outputs": [],
   "source": [
    "import json\n",
    "\n",
    "with open('../../Datasets/Visual_Genome/relationships.json') as f:\n",
    "    data = json.load(f)\n"
   ]
  },
  {
   "cell_type": "code",
   "execution_count": 61,
   "outputs": [],
   "source": [
    "spatial = \"aboard, about, above, across, after, against, along, amid, among, anti, around, as, at, \" \\\n",
    "\"before, behind, below, beneath, beside, besides, between, beyond, but, by, concerning, \" \\\n",
    "\"considering, despite, down, during, except, excepting, excluding, following, for, from, in, \" \\\n",
    "\"inside, into, in front of, like, minus, near, of, off, on, onto, on top of, opposite, outside, over, past, per, plus, \" \\\n",
    "\"regarding, round, save, since, than, through, to, toward, towards, under, underneath, unlike, \" \\\n",
    "\"until, up, upon, versus, via, with, within, without\"\n"
   ],
   "metadata": {
    "collapsed": false,
    "pycharm": {
     "name": "#%%\n"
    }
   }
  },
  {
   "cell_type": "code",
   "execution_count": 22,
   "outputs": [],
   "source": [
    "relations = []\n",
    "\n",
    "for scene in data:\n",
    "    for x in scene['relationships']:\n",
    "        rel = x['predicate']\n",
    "\n",
    "        if 'name' in x['subject']:\n",
    "            subj = x['subject']['name']\n",
    "        else:\n",
    "            subj = x['subject']['names'][0]\n",
    "\n",
    "        if 'name' in x['object']:\n",
    "            obj = x['object']['name']\n",
    "        else:\n",
    "            obj = x['object']['names'][0]\n",
    "\n",
    "        new = {'subj': subj.lower(),\n",
    "               'rel': rel.lower(),\n",
    "               'obj': obj.lower()}\n",
    "\n",
    "        relations.append(new)\n"
   ],
   "metadata": {
    "collapsed": false,
    "pycharm": {
     "name": "#%%\n"
    }
   }
  },
  {
   "cell_type": "code",
   "execution_count": 23,
   "outputs": [
    {
     "data": {
      "text/plain": "2316104"
     },
     "execution_count": 23,
     "metadata": {},
     "output_type": "execute_result"
    }
   ],
   "source": [
    "len(relations)"
   ],
   "metadata": {
    "collapsed": false,
    "pycharm": {
     "name": "#%%\n"
    }
   }
  },
  {
   "cell_type": "code",
   "execution_count": 24,
   "outputs": [
    {
     "data": {
      "text/plain": "[{'subj': 'shade', 'rel': 'on', 'obj': 'sidewalk'},\n {'subj': 'man', 'rel': 'wears', 'obj': 'shoes'},\n {'subj': 'car', 'rel': 'has', 'obj': 'headlight'},\n {'subj': 'sign', 'rel': 'on', 'obj': 'building'},\n {'subj': 'tree trunk', 'rel': 'on', 'obj': 'sidewalk'},\n {'subj': 'man', 'rel': 'has', 'obj': 'shirt'},\n {'subj': 'sidewalk', 'rel': 'next to', 'obj': 'street'},\n {'subj': 'car', 'rel': 'has', 'obj': 'back'},\n {'subj': 'man', 'rel': 'has', 'obj': 'glasses'},\n {'subj': 'parking meter', 'rel': 'on', 'obj': 'sidewalk'},\n {'subj': 'man', 'rel': 'wears', 'obj': 'shoes'},\n {'subj': 'man', 'rel': 'has', 'obj': 'shoes'},\n {'subj': 'man', 'rel': 'has', 'obj': 'shirt'},\n {'subj': 'man', 'rel': 'wears', 'obj': 'pants'},\n {'subj': 'man', 'rel': 'has', 'obj': 'jacket'},\n {'subj': 'man', 'rel': 'has', 'obj': 'pants'},\n {'subj': 'bike', 'rel': 'parked on', 'obj': 'sidewalk'},\n {'subj': 'bike', 'rel': 'parked on', 'obj': 'sidewalk'},\n {'subj': 'van', 'rel': 'parked on', 'obj': 'street'},\n {'subj': 'car', 'rel': 'parked on', 'obj': 'street'},\n {'subj': 'bike', 'rel': 'on', 'obj': 'sidewalk'},\n {'subj': 'parking meter', 'rel': 'behind', 'obj': 'man'},\n {'subj': 'man', 'rel': 'holding', 'obj': 'chin'},\n {'subj': 'man', 'rel': 'wearing', 'obj': 'shirt'},\n {'subj': 'man', 'rel': 'holding', 'obj': 'chin'},\n {'subj': 'bikes', 'rel': 'near', 'obj': 'tree'},\n {'subj': 'man', 'rel': 'wearing', 'obj': 'shoes'},\n {'subj': 'bikes', 'rel': 'near', 'obj': 'tree'},\n {'subj': 'shirt', 'rel': 'on', 'obj': 'man'},\n {'subj': 'man', 'rel': 'holding', 'obj': 'chin'},\n {'subj': 'man', 'rel': 'wearing', 'obj': 'glasses'},\n {'subj': 'lamp post', 'rel': 'along', 'obj': 'street'},\n {'subj': 'man', 'rel': 'in', 'obj': 'shirt'},\n {'subj': 'man', 'rel': 'wearing', 'obj': 'pants'},\n {'subj': 'parking meter', 'rel': 'on top of', 'obj': 'street'},\n {'subj': 'tree', 'rel': 'next to', 'obj': 'street'},\n {'subj': 'man', 'rel': 'wearing', 'obj': 'glasses'},\n {'subj': 'bikes', 'rel': 'behind', 'obj': 'man'},\n {'subj': 'trees', 'rel': 'by', 'obj': 'sidewalk'},\n {'subj': 'man', 'rel': 'wearing', 'obj': 'jacket'},\n {'subj': 'building', 'rel': 'with', 'obj': 'windows'},\n {'subj': 'man', 'rel': 'wears', 'obj': 'backpack'},\n {'subj': 'car', 'rel': 'parked on', 'obj': 'road'},\n {'subj': 'tree', 'rel': 'next to', 'obj': 'road'},\n {'subj': 'tree', 'rel': 'next to', 'obj': 'road'},\n {'subj': 'tree', 'rel': 'next to', 'obj': 'road'},\n {'subj': 'crosswalk', 'rel': 'in front of', 'obj': 'man'},\n {'subj': 'building', 'rel': 'has', 'obj': 'window'},\n {'subj': 'building', 'rel': 'has', 'obj': 'window'},\n {'subj': 'building', 'rel': 'has', 'obj': 'window'},\n {'subj': 'building', 'rel': 'has', 'obj': 'window'},\n {'subj': 'building', 'rel': 'has', 'obj': 'window'},\n {'subj': 'car', 'rel': 'parked on', 'obj': 'road'},\n {'subj': 'sign', 'rel': 'next to', 'obj': 'road'},\n {'subj': 'tree', 'rel': 'along', 'obj': 'road'},\n {'subj': 'tree', 'rel': 'along', 'obj': 'road'},\n {'subj': 'tree', 'rel': 'along', 'obj': 'road'},\n {'subj': 'man', 'rel': 'wears', 'obj': 'sneakers'},\n {'subj': 'man', 'rel': 'carries', 'obj': 'backpack'},\n {'subj': 'bike', 'rel': 'next to', 'obj': 'car'},\n {'subj': 'car', 'rel': 'parked on', 'obj': 'road'},\n {'subj': 'man', 'rel': 'at', 'obj': 'crosswalk'},\n {'subj': 'crosswalk', 'rel': 'on', 'obj': 'road'},\n {'subj': 'walk sign', 'rel': 'says', 'obj': 'walk sign'},\n {'subj': 'keyboard', 'rel': 'in front of', 'obj': 'monitor'},\n {'subj': 'computer tower', 'rel': 'under', 'obj': 'desktop'},\n {'subj': 'filing cabinet', 'rel': 'has', 'obj': 'drawer'},\n {'subj': 'filing cabinet', 'rel': 'has', 'obj': 'filing cabinet'},\n {'subj': 'mouse', 'rel': 'next to', 'obj': 'keyboard'},\n {'subj': 'wireless phone', 'rel': 'docked in', 'obj': 'telephone'},\n {'subj': 'computer tower', 'rel': 'under', 'obj': 'desk'},\n {'subj': 'filing cabinet', 'rel': 'next to', 'obj': 'desk'},\n {'subj': 'pluged', 'rel': 'next to', 'obj': 'monitor'},\n {'subj': 'pluged', 'rel': 'has', 'obj': 'plug'},\n {'subj': 'pluged', 'rel': 'has', 'obj': 'plug'},\n {'subj': 'pluged', 'rel': 'has', 'obj': 'outlet'},\n {'subj': 'pluged', 'rel': 'has', 'obj': 'plug'},\n {'subj': 'telephone', 'rel': 'on', 'obj': 'desk'},\n {'subj': 'girl', 'rel': 'in front of', 'obj': 'computer'},\n {'subj': 'mouse', 'rel': 'next to', 'obj': 'keyboard'},\n {'subj': 'outlet', 'rel': 'on', 'obj': 'wall'},\n {'subj': 'plug', 'rel': 'on', 'obj': 'wall'},\n {'subj': 'girl', 'rel': 'has', 'obj': 'hair'},\n {'subj': 'girl', 'rel': 'wears', 'obj': 'chain'},\n {'subj': 'pen', 'rel': 'on', 'obj': 'desk'},\n {'subj': 'cable', 'rel': 'on', 'obj': 'floor'},\n {'subj': 'cable', 'rel': 'on', 'obj': 'floor'},\n {'subj': 'wall', 'rel': 'has', 'obj': 'outlets'},\n {'subj': 'bag', 'rel': 'on', 'obj': 'desk'},\n {'subj': 'computer', 'rel': 'on', 'obj': 'wall'},\n {'subj': 'woman', 'rel': 'has', 'obj': 'hair'},\n {'subj': 'woman', 'rel': 'has', 'obj': 'white top'},\n {'subj': 'woman', 'rel': 'with', 'obj': 'hair'},\n {'subj': 'woman', 'rel': 'with', 'obj': 'white t-shirt'},\n {'subj': 'partition', 'rel': 'between', 'obj': 'cubicles'},\n {'subj': 'picture', 'rel': 'on', 'obj': 'wall'},\n {'subj': 'telephone', 'rel': 'on', 'obj': 'desk'},\n {'subj': 'woman', 'rel': 'with', 'obj': 'hair'},\n {'subj': 'pen', 'rel': 'next to', 'obj': 'phone'},\n {'subj': 'woman', 'rel': 'working on', 'obj': 'computer'}]"
     },
     "execution_count": 24,
     "metadata": {},
     "output_type": "execute_result"
    }
   ],
   "source": [
    "relations[:100]"
   ],
   "metadata": {
    "collapsed": false,
    "pycharm": {
     "name": "#%%\n"
    }
   }
  },
  {
   "cell_type": "code",
   "execution_count": 50,
   "outputs": [
    {
     "data": {
      "text/plain": "(36550, 45888, 40262)"
     },
     "execution_count": 50,
     "metadata": {},
     "output_type": "execute_result"
    }
   ],
   "source": [
    "from collections import Counter\n",
    "\n",
    "rel_freq = []\n",
    "subj_freq = []\n",
    "obj_freq = []\n",
    "\n",
    "for r in relations:\n",
    "    rel_freq.append(r['rel'])\n",
    "    subj_freq.append(r['subj'])\n",
    "    obj_freq.append(r['obj'])\n",
    "\n",
    "rel_freq = Counter(rel_freq)\n",
    "subj_freq = Counter(subj_freq)\n",
    "obj_freq = Counter(obj_freq)\n",
    "\n",
    "len(rel_freq), len(subj_freq), len(obj_freq)"
   ],
   "metadata": {
    "collapsed": false,
    "pycharm": {
     "name": "#%%\n"
    }
   }
  },
  {
   "cell_type": "code",
   "execution_count": 53,
   "outputs": [
    {
     "name": "stdout",
     "output_type": "stream",
     "text": [
      "on: 28.8411\n",
      "has: 10.6203\n",
      "in: 9.7298\n",
      "of: 5.5789\n",
      "wearing: 5.3898\n",
      "with: 2.7463\n",
      "behind: 1.7254\n",
      "holding: 1.6184\n",
      "on top of: 1.3628\n",
      "on a: 1.1915\n",
      "near: 1.1418\n",
      "next to: 1.0735\n",
      "has a: 1.0144\n",
      "under: 0.7970\n",
      "of a: 0.6886\n",
      "by: 0.6869\n",
      "wears: 0.6459\n",
      "above: 0.5977\n",
      "sitting on: 0.5950\n",
      "in front of: 0.5701\n",
      "wearing a: 0.4697\n",
      "on side of: 0.4682\n",
      "in a: 0.4217\n",
      "are on: 0.4179\n",
      "attached to: 0.4174\n",
      "at: 0.3952\n",
      "over: 0.3874\n",
      "for: 0.3745\n",
      "around: 0.3298\n",
      "standing on: 0.3279\n",
      "beside: 0.3269\n",
      "riding: 0.3260\n",
      "inside: 0.2807\n",
      "standing in: 0.2547\n",
      "hanging on: 0.2337\n",
      "have: 0.2314\n",
      "are in: 0.2047\n",
      "carrying: 0.1999\n",
      "on front of: 0.1980\n",
      "holds: 0.1920\n"
     ]
    }
   ],
   "source": [
    "for x in rel_freq.most_common(40):\n",
    "    print('{}: {:.4f}'.format(x[0], x[1] / len(relations) * 100.0))"
   ],
   "metadata": {
    "collapsed": false,
    "pycharm": {
     "name": "#%%\n"
    }
   }
  },
  {
   "cell_type": "code",
   "execution_count": 54,
   "outputs": [
    {
     "name": "stdout",
     "output_type": "stream",
     "text": [
      "man: 8.0775\n",
      "woman: 2.6387\n",
      "person: 2.5905\n",
      "window: 2.1434\n",
      "boy: 1.3695\n",
      "tree: 1.1272\n",
      "girl: 1.1091\n",
      "sign: 1.0382\n",
      "people: 0.9478\n",
      "building: 0.8362\n",
      "car: 0.8312\n",
      "light: 0.7972\n",
      "dog: 0.7763\n",
      "cat: 0.7569\n",
      "giraffe: 0.6630\n",
      "hand: 0.6284\n",
      "shadow: 0.6222\n",
      "bird: 0.6191\n",
      "clouds: 0.6062\n",
      "elephant: 0.5906\n",
      "zebra: 0.5881\n",
      "grass: 0.5639\n",
      "trees: 0.5472\n",
      "head: 0.5459\n",
      "train: 0.5293\n",
      "cloud: 0.5185\n",
      "clock: 0.4961\n",
      "horse: 0.4831\n",
      "leg: 0.4816\n",
      "bear: 0.4695\n",
      "pole: 0.4391\n",
      "boat: 0.4297\n",
      "leaves: 0.4287\n",
      "wall: 0.4269\n",
      "ear: 0.4125\n",
      "line: 0.4063\n",
      "cow: 0.4039\n",
      "lady: 0.4015\n",
      "plate: 0.3967\n",
      "bus: 0.3879\n"
     ]
    }
   ],
   "source": [
    "for x in subj_freq.most_common(40):\n",
    "    print('{}: {:.4f}'.format(x[0], x[1] / len(relations) * 100.0))\n"
   ],
   "metadata": {
    "collapsed": false,
    "pycharm": {
     "name": "#%%\n"
    }
   }
  },
  {
   "cell_type": "code",
   "execution_count": 55,
   "outputs": [
    {
     "name": "stdout",
     "output_type": "stream",
     "text": [
      "building: 2.4941\n",
      "table: 2.0465\n",
      "wall: 1.9850\n",
      "shirt: 1.6782\n",
      "ground: 1.6257\n",
      "water: 1.6007\n",
      "man: 1.5382\n",
      "sky: 1.5000\n",
      "plate: 1.2501\n",
      "train: 1.1653\n",
      "road: 1.1392\n",
      "grass: 1.0484\n",
      "street: 1.0188\n",
      "window: 1.0050\n",
      "bus: 0.9662\n",
      "field: 0.9399\n",
      "tree: 0.8612\n",
      "head: 0.8354\n",
      "pole: 0.7858\n",
      "hand: 0.7268\n",
      "sign: 0.7004\n",
      "snow: 0.6923\n",
      "sidewalk: 0.6865\n",
      "floor: 0.6668\n",
      "plane: 0.6337\n",
      "beach: 0.6175\n",
      "hair: 0.6157\n",
      "bed: 0.6035\n",
      "car: 0.5907\n",
      "person: 0.5825\n",
      "giraffe: 0.5773\n",
      "woman: 0.5581\n",
      "elephant: 0.5364\n",
      "pizza: 0.5232\n",
      "horse: 0.5145\n",
      "hat: 0.5074\n",
      "bench: 0.5023\n",
      "pants: 0.4935\n",
      "fence: 0.4785\n",
      "jacket: 0.4697\n"
     ]
    }
   ],
   "source": [
    "for x in obj_freq.most_common(40):\n",
    "    print('{}: {:.4f}'.format(x[0], x[1] / len(relations) * 100.0))"
   ],
   "metadata": {
    "collapsed": false,
    "pycharm": {
     "name": "#%%\n"
    }
   }
  },
  {
   "cell_type": "code",
   "execution_count": 62,
   "outputs": [
    {
     "name": "stdout",
     "output_type": "stream",
     "text": [
      "on: 28.8411\n",
      "in: 9.7298\n",
      "of: 5.5789\n",
      "with: 2.7463\n",
      "behind: 1.7254\n",
      "on top of: 1.3628\n",
      "near: 1.1418\n",
      "under: 0.7970\n",
      "by: 0.6869\n",
      "above: 0.5977\n",
      "in front of: 0.5701\n",
      "at: 0.3952\n",
      "over: 0.3874\n",
      "for: 0.3745\n",
      "around: 0.3298\n",
      "beside: 0.3269\n",
      "inside: 0.2807\n",
      "along: 0.1511\n",
      "between: 0.1462\n",
      "below: 0.1455\n",
      "against: 0.1294\n",
      "from: 0.1202\n",
      "to: 0.1011\n",
      "across: 0.0842\n",
      "outside: 0.0691\n",
      "underneath: 0.0652\n",
      "beneath: 0.0585\n",
      "through: 0.0323\n",
      "beyond: 0.0239\n",
      "off: 0.0183\n",
      "down: 0.0163\n",
      "into: 0.0124\n",
      "without: 0.0117\n",
      "among: 0.0110\n",
      "besides: 0.0069\n",
      "following: 0.0069\n",
      "before: 0.0054\n",
      "within: 0.0053\n",
      "past: 0.0045\n",
      "up: 0.0045\n",
      "during: 0.0037\n",
      "about: 0.0027\n",
      "as: 0.0027\n",
      "opposite: 0.0022\n",
      "like: 0.0019\n",
      "toward: 0.0019\n",
      "onto: 0.0017\n",
      "round: 0.0016\n",
      "amid: 0.0016\n",
      "towards: 0.0013\n",
      "after: 0.0012\n",
      "aboard: 0.0007\n",
      "upon: 0.0006\n",
      "per: 0.0003\n",
      "regarding: 0.0001\n",
      "than: 0.0000\n",
      "unlike: 0.0000\n",
      "versus: 0.0000\n",
      "via: 0.0000\n",
      "anti: 0.0000\n",
      "but: 0.0000\n",
      "concerning: 0.0000\n",
      "considering: 0.0000\n",
      "despite: 0.0000\n",
      "except: 0.0000\n",
      "excepting: 0.0000\n",
      "excluding: 0.0000\n",
      "minus: 0.0000\n",
      "plus: 0.0000\n",
      "save: 0.0000\n",
      "since: 0.0000\n",
      "until: 0.0000\n"
     ]
    }
   ],
   "source": [
    "spatial_freq = {}\n",
    "\n",
    "for p in spatial.split(', '):\n",
    "    if p in rel_freq:\n",
    "        spatial_freq[p] = rel_freq[p]\n",
    "    else:\n",
    "        spatial_freq[p] = 0\n",
    "\n",
    "spatial_freq = sorted(spatial_freq.items(), key=lambda z: z[1], reverse=True)\n",
    "\n",
    "for x in spatial_freq:\n",
    "    print('{}: {:.4f}'.format(x[0], x[1] / len(relations) * 100.0))"
   ],
   "metadata": {
    "collapsed": false,
    "pycharm": {
     "name": "#%%\n"
    }
   }
  },
  {
   "cell_type": "code",
   "execution_count": 57,
   "outputs": [
    {
     "data": {
      "text/plain": "         subj    rel        obj\n0       shade     on   sidewalk\n1         man  wears      shoes\n2         car    has  headlight\n3        sign     on   building\n4  tree trunk     on   sidewalk",
      "text/html": "<div>\n<style scoped>\n    .dataframe tbody tr th:only-of-type {\n        vertical-align: middle;\n    }\n\n    .dataframe tbody tr th {\n        vertical-align: top;\n    }\n\n    .dataframe thead th {\n        text-align: right;\n    }\n</style>\n<table border=\"1\" class=\"dataframe\">\n  <thead>\n    <tr style=\"text-align: right;\">\n      <th></th>\n      <th>subj</th>\n      <th>rel</th>\n      <th>obj</th>\n    </tr>\n  </thead>\n  <tbody>\n    <tr>\n      <th>0</th>\n      <td>shade</td>\n      <td>on</td>\n      <td>sidewalk</td>\n    </tr>\n    <tr>\n      <th>1</th>\n      <td>man</td>\n      <td>wears</td>\n      <td>shoes</td>\n    </tr>\n    <tr>\n      <th>2</th>\n      <td>car</td>\n      <td>has</td>\n      <td>headlight</td>\n    </tr>\n    <tr>\n      <th>3</th>\n      <td>sign</td>\n      <td>on</td>\n      <td>building</td>\n    </tr>\n    <tr>\n      <th>4</th>\n      <td>tree trunk</td>\n      <td>on</td>\n      <td>sidewalk</td>\n    </tr>\n  </tbody>\n</table>\n</div>"
     },
     "execution_count": 57,
     "metadata": {},
     "output_type": "execute_result"
    }
   ],
   "source": [
    "import pandas as pd\n",
    "\n",
    "df = pd.DataFrame(relations)\n",
    "\n",
    "df.head()"
   ],
   "metadata": {
    "collapsed": false,
    "pycharm": {
     "name": "#%%\n"
    }
   }
  },
  {
   "cell_type": "code",
   "execution_count": 63,
   "outputs": [
    {
     "data": {
      "text/plain": "     subj rel         obj\n32    man  in       shirt\n693   man  in       photo\n713   man  in     picture\n800   man  in         car\n2020  man  in       green\n2026  man  in       shirt\n2107  man  in        suit\n2713  man  in  black coat\n3098  man  in        coat\n4922  man  in      shorts\n4923  man  in       chair\n4924  man  in       floor\n6095  man  in       chair\n6407  man  in        coat\n6414  man  in        road\n7141  man  in      jacket\n8555  man  in       shirt\n8976  man  in       chair\n9001  man  in       chair\n9249  man  in       chair",
      "text/html": "<div>\n<style scoped>\n    .dataframe tbody tr th:only-of-type {\n        vertical-align: middle;\n    }\n\n    .dataframe tbody tr th {\n        vertical-align: top;\n    }\n\n    .dataframe thead th {\n        text-align: right;\n    }\n</style>\n<table border=\"1\" class=\"dataframe\">\n  <thead>\n    <tr style=\"text-align: right;\">\n      <th></th>\n      <th>subj</th>\n      <th>rel</th>\n      <th>obj</th>\n    </tr>\n  </thead>\n  <tbody>\n    <tr>\n      <th>32</th>\n      <td>man</td>\n      <td>in</td>\n      <td>shirt</td>\n    </tr>\n    <tr>\n      <th>693</th>\n      <td>man</td>\n      <td>in</td>\n      <td>photo</td>\n    </tr>\n    <tr>\n      <th>713</th>\n      <td>man</td>\n      <td>in</td>\n      <td>picture</td>\n    </tr>\n    <tr>\n      <th>800</th>\n      <td>man</td>\n      <td>in</td>\n      <td>car</td>\n    </tr>\n    <tr>\n      <th>2020</th>\n      <td>man</td>\n      <td>in</td>\n      <td>green</td>\n    </tr>\n    <tr>\n      <th>2026</th>\n      <td>man</td>\n      <td>in</td>\n      <td>shirt</td>\n    </tr>\n    <tr>\n      <th>2107</th>\n      <td>man</td>\n      <td>in</td>\n      <td>suit</td>\n    </tr>\n    <tr>\n      <th>2713</th>\n      <td>man</td>\n      <td>in</td>\n      <td>black coat</td>\n    </tr>\n    <tr>\n      <th>3098</th>\n      <td>man</td>\n      <td>in</td>\n      <td>coat</td>\n    </tr>\n    <tr>\n      <th>4922</th>\n      <td>man</td>\n      <td>in</td>\n      <td>shorts</td>\n    </tr>\n    <tr>\n      <th>4923</th>\n      <td>man</td>\n      <td>in</td>\n      <td>chair</td>\n    </tr>\n    <tr>\n      <th>4924</th>\n      <td>man</td>\n      <td>in</td>\n      <td>floor</td>\n    </tr>\n    <tr>\n      <th>6095</th>\n      <td>man</td>\n      <td>in</td>\n      <td>chair</td>\n    </tr>\n    <tr>\n      <th>6407</th>\n      <td>man</td>\n      <td>in</td>\n      <td>coat</td>\n    </tr>\n    <tr>\n      <th>6414</th>\n      <td>man</td>\n      <td>in</td>\n      <td>road</td>\n    </tr>\n    <tr>\n      <th>7141</th>\n      <td>man</td>\n      <td>in</td>\n      <td>jacket</td>\n    </tr>\n    <tr>\n      <th>8555</th>\n      <td>man</td>\n      <td>in</td>\n      <td>shirt</td>\n    </tr>\n    <tr>\n      <th>8976</th>\n      <td>man</td>\n      <td>in</td>\n      <td>chair</td>\n    </tr>\n    <tr>\n      <th>9001</th>\n      <td>man</td>\n      <td>in</td>\n      <td>chair</td>\n    </tr>\n    <tr>\n      <th>9249</th>\n      <td>man</td>\n      <td>in</td>\n      <td>chair</td>\n    </tr>\n  </tbody>\n</table>\n</div>"
     },
     "execution_count": 63,
     "metadata": {},
     "output_type": "execute_result"
    }
   ],
   "source": [
    "df[(df['rel'] == 'in') & (df['subj'] == 'man')].head(20)"
   ],
   "metadata": {
    "collapsed": false,
    "pycharm": {
     "name": "#%%\n"
    }
   }
  },
  {
   "cell_type": "code",
   "execution_count": 60,
   "outputs": [
    {
     "data": {
      "text/plain": "(2316104, 45888, 36550, 40262)"
     },
     "execution_count": 60,
     "metadata": {},
     "output_type": "execute_result"
    }
   ],
   "source": [
    "len(relations), len(subj_freq.keys()), len(rel_freq.keys()), len(obj_freq.keys())"
   ],
   "metadata": {
    "collapsed": false,
    "pycharm": {
     "name": "#%%\n"
    }
   }
  },
  {
   "cell_type": "code",
   "execution_count": null,
   "outputs": [],
   "source": [],
   "metadata": {
    "collapsed": false,
    "pycharm": {
     "name": "#%%\n"
    }
   }
  }
 ],
 "metadata": {
  "kernelspec": {
   "display_name": "Python 3",
   "language": "python",
   "name": "python3"
  },
  "language_info": {
   "codemirror_mode": {
    "name": "ipython",
    "version": 2
   },
   "file_extension": ".py",
   "mimetype": "text/x-python",
   "name": "python",
   "nbconvert_exporter": "python",
   "pygments_lexer": "ipython2",
   "version": "2.7.6"
  }
 },
 "nbformat": 4,
 "nbformat_minor": 0
}