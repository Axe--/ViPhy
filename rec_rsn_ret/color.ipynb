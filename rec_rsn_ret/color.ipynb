{
 "cells": [
  {
   "cell_type": "markdown",
   "metadata": {
    "collapsed": true,
    "pycharm": {
     "name": "#%% md\n"
    }
   },
   "source": [
    "Performs Correlation Analysis, for a set of objects -- across 3 stages:\n",
    "- Recognition (objects)\n",
    "- Reasoning    (color, size)\n",
    "- Retention    (color, size)\n",
    "\n",
    "> Given CapBERT's performance, what can we expect from VLMs?\n",
    "\n",
    "// img_color objs: (1354, 711, 4929)"
   ]
  },
  {
   "cell_type": "code",
   "execution_count": 1,
   "outputs": [],
   "source": [
    "import torch\n",
    "import pandas as pd\n",
    "from utils import read_json"
   ],
   "metadata": {
    "collapsed": false,
    "pycharm": {
     "name": "#%%\n"
    }
   }
  },
  {
   "cell_type": "code",
   "execution_count": 2,
   "outputs": [],
   "source": [
    "model = 'vilt'"
   ],
   "metadata": {
    "collapsed": false,
    "pycharm": {
     "name": "#%%\n"
    }
   }
  },
  {
   "cell_type": "code",
   "execution_count": 3,
   "outputs": [],
   "source": [
    "obj_l = read_json('../dataset/color/test.json')\n",
    "df_l = pd.read_csv(f'../temp/{model}_col.csv')"
   ],
   "metadata": {
    "collapsed": false,
    "pycharm": {
     "name": "#%%\n"
    }
   }
  },
  {
   "cell_type": "code",
   "execution_count": 4,
   "outputs": [],
   "source": [
    "df_l['object'] = list(obj_l)"
   ],
   "metadata": {
    "collapsed": false,
    "pycharm": {
     "name": "#%%\n"
    }
   }
  },
  {
   "cell_type": "code",
   "execution_count": 5,
   "outputs": [],
   "source": [
    "obj_vl= read_json('../dataset/img_color/test.json')\n",
    "obj_vl = [_['object'] for _ in obj_vl]\n",
    "\n",
    "df_vl = pd.read_csv(f'../temp/{model}_imcol.csv')"
   ],
   "metadata": {
    "collapsed": false,
    "pycharm": {
     "name": "#%%\n"
    }
   }
  },
  {
   "cell_type": "code",
   "execution_count": 6,
   "outputs": [],
   "source": [
    "df_vl['object'] = obj_vl"
   ],
   "metadata": {
    "collapsed": false,
    "pycharm": {
     "name": "#%%\n"
    }
   }
  },
  {
   "cell_type": "code",
   "execution_count": 7,
   "outputs": [
    {
     "data": {
      "text/plain": "         true  pred                                               prob  \\\n0    3,7,8,10     3  0.05636003240942955,0.021840402856469154,0.020...   \n1      0,1,10     8  0.08919460326433182,0.021954400464892387,0.057...   \n2    0,3,8,10    10  0.05169696360826492,0.01805987022817135,0.0358...   \n3         3,4     8  0.05501304939389229,0.02240145020186901,0.0683...   \n4  0,2,3,8,10     3  0.05686449259519577,0.022163238376379013,0.060...   \n\n         object  \n0           pig  \n1     indicator  \n2       chariot  \n3  ground cover  \n4      bed race  ",
      "text/html": "<div>\n<style scoped>\n    .dataframe tbody tr th:only-of-type {\n        vertical-align: middle;\n    }\n\n    .dataframe tbody tr th {\n        vertical-align: top;\n    }\n\n    .dataframe thead th {\n        text-align: right;\n    }\n</style>\n<table border=\"1\" class=\"dataframe\">\n  <thead>\n    <tr style=\"text-align: right;\">\n      <th></th>\n      <th>true</th>\n      <th>pred</th>\n      <th>prob</th>\n      <th>object</th>\n    </tr>\n  </thead>\n  <tbody>\n    <tr>\n      <th>0</th>\n      <td>3,7,8,10</td>\n      <td>3</td>\n      <td>0.05636003240942955,0.021840402856469154,0.020...</td>\n      <td>pig</td>\n    </tr>\n    <tr>\n      <th>1</th>\n      <td>0,1,10</td>\n      <td>8</td>\n      <td>0.08919460326433182,0.021954400464892387,0.057...</td>\n      <td>indicator</td>\n    </tr>\n    <tr>\n      <th>2</th>\n      <td>0,3,8,10</td>\n      <td>10</td>\n      <td>0.05169696360826492,0.01805987022817135,0.0358...</td>\n      <td>chariot</td>\n    </tr>\n    <tr>\n      <th>3</th>\n      <td>3,4</td>\n      <td>8</td>\n      <td>0.05501304939389229,0.02240145020186901,0.0683...</td>\n      <td>ground cover</td>\n    </tr>\n    <tr>\n      <th>4</th>\n      <td>0,2,3,8,10</td>\n      <td>3</td>\n      <td>0.05686449259519577,0.022163238376379013,0.060...</td>\n      <td>bed race</td>\n    </tr>\n  </tbody>\n</table>\n</div>"
     },
     "execution_count": 7,
     "metadata": {},
     "output_type": "execute_result"
    }
   ],
   "source": [
    "df_l.head(5)"
   ],
   "metadata": {
    "collapsed": false,
    "pycharm": {
     "name": "#%%\n"
    }
   }
  },
  {
   "cell_type": "code",
   "execution_count": 8,
   "outputs": [
    {
     "data": {
      "text/plain": "   true  pred                                               prob  \\\n0     7     3  0.004302120301872492,0.014215422794222832,0.01...   \n10    0     0  0.39208489656448364,0.09383445233106613,0.2085...   \n20    0     0  0.8400886654853821,0.00579852145165205,0.00142...   \n30    4     4  0.04573044180870056,0.004021757282316685,0.014...   \n40  0,8     0  0.6997007727622986,0.0026546271983534098,0.015...   \n\n            object  \n0              pig  \n10       indicator  \n20  christmas ball  \n30       shirt guy  \n40     banner flag  ",
      "text/html": "<div>\n<style scoped>\n    .dataframe tbody tr th:only-of-type {\n        vertical-align: middle;\n    }\n\n    .dataframe tbody tr th {\n        vertical-align: top;\n    }\n\n    .dataframe thead th {\n        text-align: right;\n    }\n</style>\n<table border=\"1\" class=\"dataframe\">\n  <thead>\n    <tr style=\"text-align: right;\">\n      <th></th>\n      <th>true</th>\n      <th>pred</th>\n      <th>prob</th>\n      <th>object</th>\n    </tr>\n  </thead>\n  <tbody>\n    <tr>\n      <th>0</th>\n      <td>7</td>\n      <td>3</td>\n      <td>0.004302120301872492,0.014215422794222832,0.01...</td>\n      <td>pig</td>\n    </tr>\n    <tr>\n      <th>10</th>\n      <td>0</td>\n      <td>0</td>\n      <td>0.39208489656448364,0.09383445233106613,0.2085...</td>\n      <td>indicator</td>\n    </tr>\n    <tr>\n      <th>20</th>\n      <td>0</td>\n      <td>0</td>\n      <td>0.8400886654853821,0.00579852145165205,0.00142...</td>\n      <td>christmas ball</td>\n    </tr>\n    <tr>\n      <th>30</th>\n      <td>4</td>\n      <td>4</td>\n      <td>0.04573044180870056,0.004021757282316685,0.014...</td>\n      <td>shirt guy</td>\n    </tr>\n    <tr>\n      <th>40</th>\n      <td>0,8</td>\n      <td>0</td>\n      <td>0.6997007727622986,0.0026546271983534098,0.015...</td>\n      <td>banner flag</td>\n    </tr>\n  </tbody>\n</table>\n</div>"
     },
     "execution_count": 8,
     "metadata": {},
     "output_type": "execute_result"
    }
   ],
   "source": [
    "df_vl.iloc[0:50:10, :]"
   ],
   "metadata": {
    "collapsed": false,
    "pycharm": {
     "name": "#%%\n"
    }
   }
  },
  {
   "cell_type": "code",
   "execution_count": 9,
   "outputs": [],
   "source": [
    "# Drop extra objects in `df_l`\n",
    "obj_vl = set(obj_vl)\n",
    "\n",
    "df_l = df_l[df_l.apply(lambda _: _['object'] in obj_vl, axis=1)]"
   ],
   "metadata": {
    "collapsed": false,
    "pycharm": {
     "name": "#%%\n"
    }
   }
  },
  {
   "cell_type": "code",
   "execution_count": 10,
   "outputs": [],
   "source": [
    "def _confidence(x):\n",
    "    true = x['true'].split(',')\n",
    "    true = [int(_) for _ in true]\n",
    "\n",
    "    prob = x['prob'].split(',')\n",
    "    prob = [float(_) for _ in prob]\n",
    "    prob = torch.tensor(prob)\n",
    "\n",
    "    return prob[true].sum().item()\n",
    "\n",
    "# Conf\n",
    "df_l['conf'] = df_l.apply(lambda x: _confidence(x), axis=1)\n",
    "df_vl['conf'] = df_vl.apply(lambda x: _confidence(x), axis=1)\n",
    "\n",
    "def _is_correct(x):\n",
    "    return str(x['pred']) in x['true']\n",
    "\n",
    "# R-Acc\n",
    "df_l['correct'] = df_l.apply(lambda x: _is_correct(x), axis=1)\n",
    "df_vl['correct'] = df_vl.apply(lambda x: _is_correct(x), axis=1)"
   ],
   "metadata": {
    "collapsed": false,
    "pycharm": {
     "name": "#%%\n"
    }
   }
  },
  {
   "cell_type": "code",
   "execution_count": 11,
   "outputs": [
    {
     "data": {
      "text/plain": "       true  pred                                               prob  \\\n0  3,7,8,10     3  0.05636003240942955,0.021840402856469154,0.020...   \n1    0,1,10     8  0.08919460326433182,0.021954400464892387,0.057...   \n5         0     8  0.11402490735054016,0.025141188874840736,0.089...   \n6    5,8,10     8  0.05009888857603073,0.015372240915894508,0.042...   \n7     0,5,8     8  0.21041236817836761,0.01790141686797142,0.0672...   \n\n           object      conf  correct  \n0             pig  0.723446     True  \n1       indicator  0.392450    False  \n5  christmas ball  0.114025    False  \n6       shirt guy  0.693679     True  \n7     banner flag  0.581485     True  ",
      "text/html": "<div>\n<style scoped>\n    .dataframe tbody tr th:only-of-type {\n        vertical-align: middle;\n    }\n\n    .dataframe tbody tr th {\n        vertical-align: top;\n    }\n\n    .dataframe thead th {\n        text-align: right;\n    }\n</style>\n<table border=\"1\" class=\"dataframe\">\n  <thead>\n    <tr style=\"text-align: right;\">\n      <th></th>\n      <th>true</th>\n      <th>pred</th>\n      <th>prob</th>\n      <th>object</th>\n      <th>conf</th>\n      <th>correct</th>\n    </tr>\n  </thead>\n  <tbody>\n    <tr>\n      <th>0</th>\n      <td>3,7,8,10</td>\n      <td>3</td>\n      <td>0.05636003240942955,0.021840402856469154,0.020...</td>\n      <td>pig</td>\n      <td>0.723446</td>\n      <td>True</td>\n    </tr>\n    <tr>\n      <th>1</th>\n      <td>0,1,10</td>\n      <td>8</td>\n      <td>0.08919460326433182,0.021954400464892387,0.057...</td>\n      <td>indicator</td>\n      <td>0.392450</td>\n      <td>False</td>\n    </tr>\n    <tr>\n      <th>5</th>\n      <td>0</td>\n      <td>8</td>\n      <td>0.11402490735054016,0.025141188874840736,0.089...</td>\n      <td>christmas ball</td>\n      <td>0.114025</td>\n      <td>False</td>\n    </tr>\n    <tr>\n      <th>6</th>\n      <td>5,8,10</td>\n      <td>8</td>\n      <td>0.05009888857603073,0.015372240915894508,0.042...</td>\n      <td>shirt guy</td>\n      <td>0.693679</td>\n      <td>True</td>\n    </tr>\n    <tr>\n      <th>7</th>\n      <td>0,5,8</td>\n      <td>8</td>\n      <td>0.21041236817836761,0.01790141686797142,0.0672...</td>\n      <td>banner flag</td>\n      <td>0.581485</td>\n      <td>True</td>\n    </tr>\n  </tbody>\n</table>\n</div>"
     },
     "execution_count": 11,
     "metadata": {},
     "output_type": "execute_result"
    }
   ],
   "source": [
    "df_l.head()"
   ],
   "metadata": {
    "collapsed": false,
    "pycharm": {
     "name": "#%%\n"
    }
   }
  },
  {
   "cell_type": "code",
   "execution_count": 12,
   "outputs": [],
   "source": [
    "# Group `conf` by objects\n",
    "df = df_vl.groupby('object', sort=False)['conf'].agg('mean').reset_index()\n",
    "df_ = df_vl.groupby('object', sort=False)['correct'].agg('mean').reset_index()"
   ],
   "metadata": {
    "collapsed": false,
    "pycharm": {
     "name": "#%%\n"
    }
   }
  },
  {
   "cell_type": "code",
   "execution_count": 13,
   "outputs": [
    {
     "data": {
      "text/plain": "           object      conf\n0             pig  0.548698\n1       indicator  0.285958\n2  christmas ball  0.731677\n3       shirt guy  0.578882\n4     banner flag  0.601756",
      "text/html": "<div>\n<style scoped>\n    .dataframe tbody tr th:only-of-type {\n        vertical-align: middle;\n    }\n\n    .dataframe tbody tr th {\n        vertical-align: top;\n    }\n\n    .dataframe thead th {\n        text-align: right;\n    }\n</style>\n<table border=\"1\" class=\"dataframe\">\n  <thead>\n    <tr style=\"text-align: right;\">\n      <th></th>\n      <th>object</th>\n      <th>conf</th>\n    </tr>\n  </thead>\n  <tbody>\n    <tr>\n      <th>0</th>\n      <td>pig</td>\n      <td>0.548698</td>\n    </tr>\n    <tr>\n      <th>1</th>\n      <td>indicator</td>\n      <td>0.285958</td>\n    </tr>\n    <tr>\n      <th>2</th>\n      <td>christmas ball</td>\n      <td>0.731677</td>\n    </tr>\n    <tr>\n      <th>3</th>\n      <td>shirt guy</td>\n      <td>0.578882</td>\n    </tr>\n    <tr>\n      <th>4</th>\n      <td>banner flag</td>\n      <td>0.601756</td>\n    </tr>\n  </tbody>\n</table>\n</div>"
     },
     "execution_count": 13,
     "metadata": {},
     "output_type": "execute_result"
    }
   ],
   "source": [
    "df.head(5)"
   ],
   "metadata": {
    "collapsed": false,
    "pycharm": {
     "name": "#%%\n"
    }
   }
  },
  {
   "cell_type": "code",
   "execution_count": 14,
   "outputs": [
    {
     "data": {
      "text/plain": "           object  correct\n0             pig      0.7\n1       indicator      0.4\n2  christmas ball      0.9\n3       shirt guy      0.8\n4     banner flag      0.7",
      "text/html": "<div>\n<style scoped>\n    .dataframe tbody tr th:only-of-type {\n        vertical-align: middle;\n    }\n\n    .dataframe tbody tr th {\n        vertical-align: top;\n    }\n\n    .dataframe thead th {\n        text-align: right;\n    }\n</style>\n<table border=\"1\" class=\"dataframe\">\n  <thead>\n    <tr style=\"text-align: right;\">\n      <th></th>\n      <th>object</th>\n      <th>correct</th>\n    </tr>\n  </thead>\n  <tbody>\n    <tr>\n      <th>0</th>\n      <td>pig</td>\n      <td>0.7</td>\n    </tr>\n    <tr>\n      <th>1</th>\n      <td>indicator</td>\n      <td>0.4</td>\n    </tr>\n    <tr>\n      <th>2</th>\n      <td>christmas ball</td>\n      <td>0.9</td>\n    </tr>\n    <tr>\n      <th>3</th>\n      <td>shirt guy</td>\n      <td>0.8</td>\n    </tr>\n    <tr>\n      <th>4</th>\n      <td>banner flag</td>\n      <td>0.7</td>\n    </tr>\n  </tbody>\n</table>\n</div>"
     },
     "execution_count": 14,
     "metadata": {},
     "output_type": "execute_result"
    }
   ],
   "source": [
    "df_.head(5)\n",
    "\n"
   ],
   "metadata": {
    "collapsed": false,
    "pycharm": {
     "name": "#%%\n"
    }
   }
  },
  {
   "cell_type": "markdown",
   "source": [
    "#### Conf"
   ],
   "metadata": {
    "collapsed": false
   }
  },
  {
   "cell_type": "code",
   "execution_count": 15,
   "outputs": [
    {
     "data": {
      "text/plain": "True"
     },
     "execution_count": 15,
     "metadata": {},
     "output_type": "execute_result"
    }
   ],
   "source": [
    "# Ensure object order is same\n",
    "all(l == vl for l, vl in zip(df_l['object'].tolist(), df['object'].tolist()))"
   ],
   "metadata": {
    "collapsed": false,
    "pycharm": {
     "name": "#%%\n"
    }
   }
  },
  {
   "cell_type": "code",
   "execution_count": 16,
   "outputs": [],
   "source": [
    "df = df.rename(columns={'conf': 'conf_vl'})\n",
    "\n",
    "df['conf_l'] = df_l['conf'].tolist()"
   ],
   "metadata": {
    "collapsed": false,
    "pycharm": {
     "name": "#%%\n"
    }
   }
  },
  {
   "cell_type": "code",
   "execution_count": 17,
   "outputs": [
    {
     "data": {
      "text/plain": "           object   conf_vl    conf_l\n0             pig  0.548698  0.723446\n1       indicator  0.285958  0.392450\n2  christmas ball  0.731677  0.114025\n3       shirt guy  0.578882  0.693679\n4     banner flag  0.601756  0.581485\n5         parsley  0.815230  0.172975\n6        dome top  0.300533  0.685503\n7   kitchen stool  0.422884  0.247449\n8         ad sign  0.563916  0.567506\n9     ginger hair  0.333206  0.460599",
      "text/html": "<div>\n<style scoped>\n    .dataframe tbody tr th:only-of-type {\n        vertical-align: middle;\n    }\n\n    .dataframe tbody tr th {\n        vertical-align: top;\n    }\n\n    .dataframe thead th {\n        text-align: right;\n    }\n</style>\n<table border=\"1\" class=\"dataframe\">\n  <thead>\n    <tr style=\"text-align: right;\">\n      <th></th>\n      <th>object</th>\n      <th>conf_vl</th>\n      <th>conf_l</th>\n    </tr>\n  </thead>\n  <tbody>\n    <tr>\n      <th>0</th>\n      <td>pig</td>\n      <td>0.548698</td>\n      <td>0.723446</td>\n    </tr>\n    <tr>\n      <th>1</th>\n      <td>indicator</td>\n      <td>0.285958</td>\n      <td>0.392450</td>\n    </tr>\n    <tr>\n      <th>2</th>\n      <td>christmas ball</td>\n      <td>0.731677</td>\n      <td>0.114025</td>\n    </tr>\n    <tr>\n      <th>3</th>\n      <td>shirt guy</td>\n      <td>0.578882</td>\n      <td>0.693679</td>\n    </tr>\n    <tr>\n      <th>4</th>\n      <td>banner flag</td>\n      <td>0.601756</td>\n      <td>0.581485</td>\n    </tr>\n    <tr>\n      <th>5</th>\n      <td>parsley</td>\n      <td>0.815230</td>\n      <td>0.172975</td>\n    </tr>\n    <tr>\n      <th>6</th>\n      <td>dome top</td>\n      <td>0.300533</td>\n      <td>0.685503</td>\n    </tr>\n    <tr>\n      <th>7</th>\n      <td>kitchen stool</td>\n      <td>0.422884</td>\n      <td>0.247449</td>\n    </tr>\n    <tr>\n      <th>8</th>\n      <td>ad sign</td>\n      <td>0.563916</td>\n      <td>0.567506</td>\n    </tr>\n    <tr>\n      <th>9</th>\n      <td>ginger hair</td>\n      <td>0.333206</td>\n      <td>0.460599</td>\n    </tr>\n  </tbody>\n</table>\n</div>"
     },
     "execution_count": 17,
     "metadata": {},
     "output_type": "execute_result"
    }
   ],
   "source": [
    "df.head(10)\n"
   ],
   "metadata": {
    "collapsed": false,
    "pycharm": {
     "name": "#%%\n"
    }
   }
  },
  {
   "cell_type": "code",
   "execution_count": 18,
   "outputs": [
    {
     "data": {
      "text/plain": "-0.07765679769188608"
     },
     "execution_count": 18,
     "metadata": {},
     "output_type": "execute_result"
    }
   ],
   "source": [
    "df['conf_l'].corr(df['conf_vl'], method='pearson')"
   ],
   "metadata": {
    "collapsed": false,
    "pycharm": {
     "name": "#%%\n"
    }
   }
  },
  {
   "cell_type": "code",
   "execution_count": 19,
   "outputs": [
    {
     "data": {
      "text/plain": "-0.06694292325572693"
     },
     "execution_count": 19,
     "metadata": {},
     "output_type": "execute_result"
    }
   ],
   "source": [
    "df['conf_l'].corr(df['conf_vl'], method='spearman')"
   ],
   "metadata": {
    "collapsed": false,
    "pycharm": {
     "name": "#%%\n"
    }
   }
  },
  {
   "cell_type": "code",
   "execution_count": 20,
   "outputs": [
    {
     "data": {
      "text/plain": "-0.04516331769747783"
     },
     "execution_count": 20,
     "metadata": {},
     "output_type": "execute_result"
    }
   ],
   "source": [
    "df['conf_l'].corr(df['conf_vl'], method='kendall')\n"
   ],
   "metadata": {
    "collapsed": false,
    "pycharm": {
     "name": "#%%\n"
    }
   }
  },
  {
   "cell_type": "markdown",
   "source": [
    "#### R-Acc\n",
    "\n",
    "VLM score | conditioned on LM's success/failure"
   ],
   "metadata": {
    "collapsed": false
   }
  },
  {
   "cell_type": "code",
   "execution_count": 21,
   "outputs": [],
   "source": [
    "df_ = df_.rename(columns={'correct': 'correct_vl'})\n",
    "\n",
    "df_['acc_l'] = df_l['correct'].tolist()"
   ],
   "metadata": {
    "collapsed": false,
    "pycharm": {
     "name": "#%%\n"
    }
   }
  },
  {
   "cell_type": "code",
   "execution_count": 22,
   "outputs": [
    {
     "data": {
      "text/plain": "           object  correct_vl  acc_l\n0             pig         0.7   True\n1       indicator         0.4  False\n2  christmas ball         0.9  False\n3       shirt guy         0.8   True\n4     banner flag         0.7   True\n5         parsley         0.9  False\n6        dome top         0.3   True\n7   kitchen stool         0.7  False\n8         ad sign         0.7   True\n9     ginger hair         0.4   True",
      "text/html": "<div>\n<style scoped>\n    .dataframe tbody tr th:only-of-type {\n        vertical-align: middle;\n    }\n\n    .dataframe tbody tr th {\n        vertical-align: top;\n    }\n\n    .dataframe thead th {\n        text-align: right;\n    }\n</style>\n<table border=\"1\" class=\"dataframe\">\n  <thead>\n    <tr style=\"text-align: right;\">\n      <th></th>\n      <th>object</th>\n      <th>correct_vl</th>\n      <th>acc_l</th>\n    </tr>\n  </thead>\n  <tbody>\n    <tr>\n      <th>0</th>\n      <td>pig</td>\n      <td>0.7</td>\n      <td>True</td>\n    </tr>\n    <tr>\n      <th>1</th>\n      <td>indicator</td>\n      <td>0.4</td>\n      <td>False</td>\n    </tr>\n    <tr>\n      <th>2</th>\n      <td>christmas ball</td>\n      <td>0.9</td>\n      <td>False</td>\n    </tr>\n    <tr>\n      <th>3</th>\n      <td>shirt guy</td>\n      <td>0.8</td>\n      <td>True</td>\n    </tr>\n    <tr>\n      <th>4</th>\n      <td>banner flag</td>\n      <td>0.7</td>\n      <td>True</td>\n    </tr>\n    <tr>\n      <th>5</th>\n      <td>parsley</td>\n      <td>0.9</td>\n      <td>False</td>\n    </tr>\n    <tr>\n      <th>6</th>\n      <td>dome top</td>\n      <td>0.3</td>\n      <td>True</td>\n    </tr>\n    <tr>\n      <th>7</th>\n      <td>kitchen stool</td>\n      <td>0.7</td>\n      <td>False</td>\n    </tr>\n    <tr>\n      <th>8</th>\n      <td>ad sign</td>\n      <td>0.7</td>\n      <td>True</td>\n    </tr>\n    <tr>\n      <th>9</th>\n      <td>ginger hair</td>\n      <td>0.4</td>\n      <td>True</td>\n    </tr>\n  </tbody>\n</table>\n</div>"
     },
     "execution_count": 22,
     "metadata": {},
     "output_type": "execute_result"
    }
   ],
   "source": [
    "df_.head(10)"
   ],
   "metadata": {
    "collapsed": false,
    "pycharm": {
     "name": "#%%\n"
    }
   }
  },
  {
   "cell_type": "code",
   "execution_count": 23,
   "outputs": [
    {
     "data": {
      "text/plain": "(0.6652042360060514, 0.6552339901477832)"
     },
     "execution_count": 23,
     "metadata": {},
     "output_type": "execute_result"
    }
   ],
   "source": [
    "df_[df_['acc_l'] == True]['correct_vl'].mean(), \\\n",
    "df_[df_['acc_l'] == False]['correct_vl'].mean()"
   ],
   "metadata": {
    "collapsed": false,
    "pycharm": {
     "name": "#%%\n"
    }
   }
  },
  {
   "cell_type": "code",
   "execution_count": 24,
   "outputs": [
    {
     "data": {
      "text/plain": "0.6619192533982553"
     },
     "execution_count": 24,
     "metadata": {},
     "output_type": "execute_result"
    }
   ],
   "source": [
    "df_['correct_vl'].mean()"
   ],
   "metadata": {
    "collapsed": false,
    "pycharm": {
     "name": "#%%\n"
    }
   }
  },
  {
   "cell_type": "code",
   "execution_count": 24,
   "outputs": [],
   "source": [],
   "metadata": {
    "collapsed": false,
    "pycharm": {
     "name": "#%%\n"
    }
   }
  }
 ],
 "metadata": {
  "kernelspec": {
   "display_name": "Python 3",
   "language": "python",
   "name": "python3"
  },
  "language_info": {
   "codemirror_mode": {
    "name": "ipython",
    "version": 2
   },
   "file_extension": ".py",
   "mimetype": "text/x-python",
   "name": "python",
   "nbconvert_exporter": "python",
   "pygments_lexer": "ipython2",
   "version": "2.7.6"
  }
 },
 "nbformat": 4,
 "nbformat_minor": 0
}