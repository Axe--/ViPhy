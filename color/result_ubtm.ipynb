{
 "cells": [
  {
   "cell_type": "markdown",
   "metadata": {
    "collapsed": true,
    "pycharm": {
     "name": "#%% md\n"
    }
   },
   "source": [
    "## Error Analysis: Color\n",
    "\n",
    "Model: ViLT"
   ]
  },
  {
   "cell_type": "code",
   "execution_count": 1,
   "outputs": [],
   "source": [
    "import pandas as pd\n",
    "from dataloader import COLOR_LABELS\n",
    "from utils import read_json, sort_dict"
   ],
   "metadata": {
    "collapsed": false,
    "pycharm": {
     "name": "#%%\n"
    }
   }
  },
  {
   "cell_type": "code",
   "execution_count": 2,
   "outputs": [],
   "source": [
    "df = pd.read_csv('../temp/vilt_col.csv')"
   ],
   "metadata": {
    "collapsed": false,
    "pycharm": {
     "name": "#%%\n"
    }
   }
  },
  {
   "cell_type": "markdown",
   "source": [
    "#### Predictions"
   ],
   "metadata": {
    "collapsed": false,
    "pycharm": {
     "name": "#%% md\n"
    }
   }
  },
  {
   "cell_type": "code",
   "execution_count": 3,
   "outputs": [],
   "source": [
    "def _typ2cat(cols: str) -> str:\n",
    "    n = len(cols.split(','))\n",
    "    if n == 1:\n",
    "        return 'uni'\n",
    "    elif n == 2:\n",
    "        return 'bi'\n",
    "    elif n == 3:\n",
    "        return 'tri'\n",
    "    else:\n",
    "        return 'many'\n",
    "\n",
    "\n",
    "df['category'] = df['true'].apply(lambda x: _typ2cat(x))\n",
    "df['pred'] = df['pred'].apply(lambda x: str(x))"
   ],
   "metadata": {
    "collapsed": false,
    "pycharm": {
     "name": "#%%\n"
    }
   }
  },
  {
   "cell_type": "code",
   "execution_count": 4,
   "outputs": [],
   "source": [
    "label_set = list(COLOR_LABELS)\n",
    "\n",
    "df['true_label'] = df['true'].apply(lambda s: ', '.join(label_set[int(_i)]for _i in s.split(',')))\n",
    "df['pred_label'] = df['pred'].apply(lambda s: label_set[int(s)])\n"
   ],
   "metadata": {
    "collapsed": false,
    "pycharm": {
     "name": "#%%\n"
    }
   }
  },
  {
   "cell_type": "markdown",
   "source": [
    "r-Accuracy"
   ],
   "metadata": {
    "collapsed": false,
    "pycharm": {
     "name": "#%% md\n"
    }
   }
  },
  {
   "cell_type": "code",
   "execution_count": null,
   "outputs": [],
   "source": [
    "df['correct'] = df.apply(lambda x: x['pred'] in x['true'], axis=1)\n",
    "\n",
    "'{:.2f}'.format(df['correct'].sum() / len(df) * 100)"
   ],
   "metadata": {
    "collapsed": false,
    "pycharm": {
     "name": "#%%\n"
    }
   }
  },
  {
   "cell_type": "markdown",
   "source": [
    "Confidence"
   ],
   "metadata": {
    "collapsed": false
   }
  },
  {
   "cell_type": "code",
   "execution_count": 14,
   "outputs": [
    {
     "data": {
      "text/plain": "'43.09'"
     },
     "execution_count": 14,
     "metadata": {},
     "output_type": "execute_result"
    }
   ],
   "source": [
    "from torch import tensor as T\n",
    "\n",
    "\n",
    "def _confidence(x):\n",
    "    true = x['true'].split(',')\n",
    "    true = [int(_) for _ in true]\n",
    "\n",
    "    prob = x['prob'].split(',')\n",
    "    prob = T([float(_) for _ in prob])\n",
    "\n",
    "    return prob[true].sum().item()\n",
    "\n",
    "\n",
    "df['conf'] = df.apply(lambda x: _confidence(x), axis=1)\n",
    "\n",
    "'{:.2f}'.format(df['conf'].sum() / len(df) * 100)"
   ],
   "metadata": {
    "collapsed": false,
    "pycharm": {
     "name": "#%%\n"
    }
   }
  },
  {
   "cell_type": "code",
   "execution_count": 15,
   "outputs": [
    {
     "data": {
      "text/plain": "  true pred                                               prob category  \\\n0    9    9  0.05847332999110222,0.014542950317263603,0.039...      uni   \n1  3,8    8  0.04014134779572487,0.018870089203119278,0.026...       bi   \n\n     true_label pred_label  correct      conf                  obj  \n0          gray       gray     True  0.226766             basement  \n1  brown, white      white     True  0.569022  bathroom stall door  ",
      "text/html": "<div>\n<style scoped>\n    .dataframe tbody tr th:only-of-type {\n        vertical-align: middle;\n    }\n\n    .dataframe tbody tr th {\n        vertical-align: top;\n    }\n\n    .dataframe thead th {\n        text-align: right;\n    }\n</style>\n<table border=\"1\" class=\"dataframe\">\n  <thead>\n    <tr style=\"text-align: right;\">\n      <th></th>\n      <th>true</th>\n      <th>pred</th>\n      <th>prob</th>\n      <th>category</th>\n      <th>true_label</th>\n      <th>pred_label</th>\n      <th>correct</th>\n      <th>conf</th>\n      <th>obj</th>\n    </tr>\n  </thead>\n  <tbody>\n    <tr>\n      <th>0</th>\n      <td>9</td>\n      <td>9</td>\n      <td>0.05847332999110222,0.014542950317263603,0.039...</td>\n      <td>uni</td>\n      <td>gray</td>\n      <td>gray</td>\n      <td>True</td>\n      <td>0.226766</td>\n      <td>basement</td>\n    </tr>\n    <tr>\n      <th>1</th>\n      <td>3,8</td>\n      <td>8</td>\n      <td>0.04014134779572487,0.018870089203119278,0.026...</td>\n      <td>bi</td>\n      <td>brown, white</td>\n      <td>white</td>\n      <td>True</td>\n      <td>0.569022</td>\n      <td>bathroom stall door</td>\n    </tr>\n  </tbody>\n</table>\n</div>"
     },
     "execution_count": 15,
     "metadata": {},
     "output_type": "execute_result"
    }
   ],
   "source": [
    "df.head(2)"
   ],
   "metadata": {
    "collapsed": false,
    "pycharm": {
     "name": "#%%\n"
    }
   }
  },
  {
   "cell_type": "code",
   "execution_count": 16,
   "outputs": [
    {
     "data": {
      "text/plain": "count    10040.000000\nmean         0.430885\nstd          0.212883\nmin          0.000997\n25%          0.265296\n50%          0.418953\n75%          0.600380\nmax          0.961582\nName: conf, dtype: float64"
     },
     "execution_count": 16,
     "metadata": {},
     "output_type": "execute_result"
    }
   ],
   "source": [
    "df['conf'].describe()"
   ],
   "metadata": {
    "collapsed": false,
    "pycharm": {
     "name": "#%%\n"
    }
   }
  },
  {
   "cell_type": "markdown",
   "source": [
    "#### Object Names"
   ],
   "metadata": {
    "collapsed": false,
    "pycharm": {
     "name": "#%% md\n"
    }
   }
  },
  {
   "cell_type": "code",
   "execution_count": 8,
   "outputs": [
    {
     "data": {
      "text/plain": "(10040, 10040)"
     },
     "execution_count": 8,
     "metadata": {},
     "output_type": "execute_result"
    }
   ],
   "source": [
    "objs = read_json('../dataset/color/test.json')\n",
    "objs = list(objs)\n",
    "\n",
    "len(df), len(objs)"
   ],
   "metadata": {
    "collapsed": false,
    "pycharm": {
     "name": "#%%\n"
    }
   }
  },
  {
   "cell_type": "code",
   "execution_count": 9,
   "outputs": [],
   "source": [
    "df['obj'] = objs"
   ],
   "metadata": {
    "collapsed": false,
    "pycharm": {
     "name": "#%%\n"
    }
   }
  },
  {
   "cell_type": "code",
   "execution_count": 10,
   "outputs": [
    {
     "data": {
      "text/plain": "  true pred                                               prob category  \\\n0    9    9  0.05847332999110222,0.014542950317263603,0.039...      uni   \n1  3,8    8  0.04014134779572487,0.018870089203119278,0.026...       bi   \n\n     true_label pred_label  correct      conf                  obj  \n0          gray       gray     True  0.226766             basement  \n1  brown, white      white     True  0.569022  bathroom stall door  ",
      "text/html": "<div>\n<style scoped>\n    .dataframe tbody tr th:only-of-type {\n        vertical-align: middle;\n    }\n\n    .dataframe tbody tr th {\n        vertical-align: top;\n    }\n\n    .dataframe thead th {\n        text-align: right;\n    }\n</style>\n<table border=\"1\" class=\"dataframe\">\n  <thead>\n    <tr style=\"text-align: right;\">\n      <th></th>\n      <th>true</th>\n      <th>pred</th>\n      <th>prob</th>\n      <th>category</th>\n      <th>true_label</th>\n      <th>pred_label</th>\n      <th>correct</th>\n      <th>conf</th>\n      <th>obj</th>\n    </tr>\n  </thead>\n  <tbody>\n    <tr>\n      <th>0</th>\n      <td>9</td>\n      <td>9</td>\n      <td>0.05847332999110222,0.014542950317263603,0.039...</td>\n      <td>uni</td>\n      <td>gray</td>\n      <td>gray</td>\n      <td>True</td>\n      <td>0.226766</td>\n      <td>basement</td>\n    </tr>\n    <tr>\n      <th>1</th>\n      <td>3,8</td>\n      <td>8</td>\n      <td>0.04014134779572487,0.018870089203119278,0.026...</td>\n      <td>bi</td>\n      <td>brown, white</td>\n      <td>white</td>\n      <td>True</td>\n      <td>0.569022</td>\n      <td>bathroom stall door</td>\n    </tr>\n  </tbody>\n</table>\n</div>"
     },
     "execution_count": 10,
     "metadata": {},
     "output_type": "execute_result"
    }
   ],
   "source": [
    "df.head(2)"
   ],
   "metadata": {
    "collapsed": false,
    "pycharm": {
     "name": "#%%\n"
    }
   }
  },
  {
   "cell_type": "markdown",
   "source": [
    "#### UBTM\n",
    "\n",
    "Since our metric is *relaxed* accuracy, it's expected to see:\n",
    " #colors ↟ : score ↟"
   ],
   "metadata": {
    "collapsed": false,
    "pycharm": {
     "name": "#%% md\n"
    }
   }
  },
  {
   "cell_type": "code",
   "execution_count": 11,
   "outputs": [
    {
     "name": "stdout",
     "output_type": "stream",
     "text": [
      "uni: 49.93 | 3825\n",
      "bi: 65.61 | 2341\n",
      "tri: 78.36 | 1146\n",
      "many: 82.33 | 2728\n"
     ]
    }
   ],
   "source": [
    "for cat in ['uni', 'bi', 'tri', 'many']:\n",
    "    _ = df[df['category'] == cat]\n",
    "    _acc = _['correct'].sum() / len(_) * 100\n",
    "\n",
    "    print(f'{cat}: {_acc:.2f} | {len(_)}')"
   ],
   "metadata": {
    "collapsed": false,
    "pycharm": {
     "name": "#%%\n"
    }
   }
  },
  {
   "cell_type": "code",
   "execution_count": 13,
   "outputs": [
    {
     "name": "stdout",
     "output_type": "stream",
     "text": [
      "uni: 26.17 | 3825\n",
      "bi: 41.59 | 2341\n",
      "tri: 53.89 | 1146\n",
      "many: 63.56 | 2728\n"
     ]
    }
   ],
   "source": [
    "for cat in ['uni', 'bi', 'tri', 'many']:\n",
    "    _ = df[df['category'] == cat]\n",
    "    _conf = _['conf'].sum() / len(_) * 100\n",
    "\n",
    "    print(f'{cat}: {_conf:.2f} | {len(_)}')"
   ],
   "metadata": {
    "collapsed": false,
    "pycharm": {
     "name": "#%%\n"
    }
   }
  },
  {
   "cell_type": "markdown",
   "source": [
    "Object Frequency"
   ],
   "metadata": {
    "collapsed": false,
    "pycharm": {
     "name": "#%% md\n"
    }
   }
  },
  {
   "cell_type": "code",
   "execution_count": 17,
   "outputs": [],
   "source": [
    "csv = pd.read_csv('../results/colors.csv')\n",
    "\n",
    "obj2freq = {o: f for o, f in zip(csv['object'], csv['total'])}\n",
    "\n",
    "df['freq'] = df['obj'].apply(lambda o: obj2freq[o])\n"
   ],
   "metadata": {
    "collapsed": false,
    "pycharm": {
     "name": "#%%\n"
    }
   }
  },
  {
   "cell_type": "code",
   "execution_count": 19,
   "outputs": [
    {
     "name": "stdout",
     "output_type": "stream",
     "text": [
      "uni: 565.73 | 3825\n",
      "bi: 551.12 | 2341\n",
      "tri: 521.06 | 1146\n",
      "many: 492.45 | 2728\n"
     ]
    }
   ],
   "source": [
    "for cat in ['uni', 'bi', 'tri', 'many']:\n",
    "    _ = df[df['category'] == cat]\n",
    "    _freq = _['freq'].mean()\n",
    "\n",
    "    print(f'{cat}: {_freq:.2f} | {len(_)}')"
   ],
   "metadata": {
    "collapsed": false,
    "pycharm": {
     "name": "#%%\n"
    }
   }
  },
  {
   "cell_type": "code",
   "execution_count": 20,
   "outputs": [
    {
     "data": {
      "text/plain": "         true pred category                      true_label pred_label  \\\n0           9    9      uni                            gray       gray   \n1         3,8    8       bi                    brown, white      white   \n2         8,9    9       bi                     white, gray       gray   \n3  0,1,5,9,10   10     many  red, orange, blue, gray, black      black   \n4     3,5,8,9    3     many        brown, blue, white, gray      brown   \n\n   correct                  obj  freq  \n0     True             basement    40  \n1     True  bathroom stall door   781  \n2     True         metal drawer    55  \n3     True        baseball gear   178  \n4     True                coast   202  ",
      "text/html": "<div>\n<style scoped>\n    .dataframe tbody tr th:only-of-type {\n        vertical-align: middle;\n    }\n\n    .dataframe tbody tr th {\n        vertical-align: top;\n    }\n\n    .dataframe thead th {\n        text-align: right;\n    }\n</style>\n<table border=\"1\" class=\"dataframe\">\n  <thead>\n    <tr style=\"text-align: right;\">\n      <th></th>\n      <th>true</th>\n      <th>pred</th>\n      <th>category</th>\n      <th>true_label</th>\n      <th>pred_label</th>\n      <th>correct</th>\n      <th>obj</th>\n      <th>freq</th>\n    </tr>\n  </thead>\n  <tbody>\n    <tr>\n      <th>0</th>\n      <td>9</td>\n      <td>9</td>\n      <td>uni</td>\n      <td>gray</td>\n      <td>gray</td>\n      <td>True</td>\n      <td>basement</td>\n      <td>40</td>\n    </tr>\n    <tr>\n      <th>1</th>\n      <td>3,8</td>\n      <td>8</td>\n      <td>bi</td>\n      <td>brown, white</td>\n      <td>white</td>\n      <td>True</td>\n      <td>bathroom stall door</td>\n      <td>781</td>\n    </tr>\n    <tr>\n      <th>2</th>\n      <td>8,9</td>\n      <td>9</td>\n      <td>bi</td>\n      <td>white, gray</td>\n      <td>gray</td>\n      <td>True</td>\n      <td>metal drawer</td>\n      <td>55</td>\n    </tr>\n    <tr>\n      <th>3</th>\n      <td>0,1,5,9,10</td>\n      <td>10</td>\n      <td>many</td>\n      <td>red, orange, blue, gray, black</td>\n      <td>black</td>\n      <td>True</td>\n      <td>baseball gear</td>\n      <td>178</td>\n    </tr>\n    <tr>\n      <th>4</th>\n      <td>3,5,8,9</td>\n      <td>3</td>\n      <td>many</td>\n      <td>brown, blue, white, gray</td>\n      <td>brown</td>\n      <td>True</td>\n      <td>coast</td>\n      <td>202</td>\n    </tr>\n  </tbody>\n</table>\n</div>"
     },
     "execution_count": 20,
     "metadata": {},
     "output_type": "execute_result"
    }
   ],
   "source": [
    "df.head()"
   ],
   "metadata": {
    "collapsed": false,
    "pycharm": {
     "name": "#%%\n"
    }
   }
  },
  {
   "cell_type": "code",
   "execution_count": 22,
   "outputs": [],
   "source": [
    "obj2freq = sort_dict(obj2freq, by='v', reverse=True)"
   ],
   "metadata": {
    "collapsed": false,
    "pycharm": {
     "name": "#%%\n"
    }
   }
  },
  {
   "cell_type": "code",
   "execution_count": 25,
   "outputs": [
    {
     "data": {
      "text/plain": "[('fence', 5360),\n ('sheep dog', 5351),\n ('pine tree', 5345),\n ('wall', 5341),\n ('pole street sign', 5338),\n ('camera', 5335),\n ('hotel room bed', 5307),\n ('sweater', 5282),\n ('vase flower', 5254),\n ('tree branch', 5247),\n ('hotel bed', 5193),\n ('parking lot', 5190),\n ('object', 5178),\n ('train', 5175),\n ('train station building', 5166),\n ('paint', 5158),\n ('license plate', 5135),\n ('fishing boat', 5119),\n ('chair', 5116),\n ('curtain', 5054),\n ('hat', 5033),\n ('surf board', 5029),\n ('laptop', 5008),\n ('decker train', 4991),\n ('tuxedo cat', 4975),\n ('boat', 4973),\n ('edge water', 4959),\n ('tie', 4957),\n ('freight train', 4952),\n ('book', 4947),\n ('sweatshirt', 4939),\n ('beach water', 4888),\n ('passenger train', 4880),\n ('street road', 4870),\n ('ski', 4852),\n ('racket', 4842),\n ('door car', 4830),\n ('beach umbrella', 4821),\n ('canal water', 4805),\n ('tv', 4800),\n ('skier', 4768),\n ('double-decker bus', 4757),\n ('enclosure ground', 4740),\n ('age building', 4724),\n ('surfboard riding wave', 4722),\n ('summer sky', 4702),\n ('zebra stripe', 4702),\n ('motorbike', 4697),\n ('blanket', 4695),\n ('brick wall', 4671),\n ('bus front', 4627),\n ('baseball cap', 4625),\n ('bunch', 4578),\n ('road', 4559),\n ('snow cloud', 4555),\n ('neighborhood street', 4552),\n ('bag', 4552),\n ('scrub grass', 4547),\n ('person arm', 4523),\n ('rain umbrella', 4514),\n ('pizza', 4510),\n ('kid', 4508),\n ('water sky', 4483),\n ('air front', 4478),\n ('floor', 4469),\n ('air canada plane', 4466),\n ('water elephant', 4461),\n ('neck giraffe', 4452),\n ('house', 4449),\n ('stack', 4443),\n ('ski mountain', 4428),\n ('plate table', 4420),\n ('toothbrush', 4412),\n ('computer desk', 4389),\n ('water bird', 4373),\n ('elephant trunk', 4368),\n ('grizzly bear', 4359),\n ('gala apple', 4347),\n ('cat ear', 4332),\n ('kitchen floor', 4330),\n ('field', 4321),\n ('field front', 4308),\n ('city clock', 4301),\n ('bathroom mirror', 4287),\n ('edge', 4284),\n ('vase', 4279),\n ('sun', 4270),\n ('window', 4266),\n ('zoo animal', 4256),\n ('chili cheese dog', 4249),\n ('dozen donut', 4247),\n ('leg', 4247),\n ('pole', 4235),\n ('batter shirt', 4215),\n ('river', 4211),\n ('propeller plane', 4207),\n ('watch', 4202),\n ('base ball player', 4178),\n ('table top', 4168),\n ('ski pant', 4161)]"
     },
     "execution_count": 25,
     "metadata": {},
     "output_type": "execute_result"
    }
   ],
   "source": [
    "list(obj2freq.items())[200:300]\n"
   ],
   "metadata": {
    "collapsed": false,
    "pycharm": {
     "name": "#%%\n"
    }
   }
  },
  {
   "cell_type": "markdown",
   "source": [
    "<br>\n",
    "\n",
    "#### ----------------------------------------------------------------------------\n",
    "\n",
    "<br>"
   ],
   "metadata": {
    "collapsed": false,
    "pycharm": {
     "name": "#%% md\n"
    }
   }
  },
  {
   "cell_type": "markdown",
   "source": [
    "..."
   ],
   "metadata": {
    "collapsed": false,
    "pycharm": {
     "name": "#%% md\n"
    }
   }
  },
  {
   "cell_type": "code",
   "execution_count": null,
   "outputs": [],
   "source": [],
   "metadata": {
    "collapsed": false,
    "pycharm": {
     "name": "#%%\n"
    }
   }
  },
  {
   "cell_type": "code",
   "execution_count": null,
   "outputs": [],
   "source": [],
   "metadata": {
    "collapsed": false,
    "pycharm": {
     "name": "#%%\n"
    }
   }
  },
  {
   "cell_type": "code",
   "execution_count": null,
   "outputs": [],
   "source": [],
   "metadata": {
    "collapsed": false,
    "pycharm": {
     "name": "#%%\n"
    }
   }
  }
 ],
 "metadata": {
  "kernelspec": {
   "display_name": "Python 3",
   "language": "python",
   "name": "python3"
  },
  "language_info": {
   "codemirror_mode": {
    "name": "ipython",
    "version": 2
   },
   "file_extension": ".py",
   "mimetype": "text/x-python",
   "name": "python",
   "nbconvert_exporter": "python",
   "pygments_lexer": "ipython2",
   "version": "2.7.6"
  }
 },
 "nbformat": 4,
 "nbformat_minor": 0
}