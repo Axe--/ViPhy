{
 "cells": [
  {
   "cell_type": "markdown",
   "metadata": {
    "collapsed": true,
    "pycharm": {
     "name": "#%% md\n"
    }
   },
   "source": [
    "# Visualize Images"
   ]
  },
  {
   "cell_type": "code",
   "execution_count": 1,
   "outputs": [],
   "source": [
    "import numpy as np\n",
    "from PIL import Image\n",
    "from glob import glob\n",
    "from tqdm import tqdm\n",
    "from os.path import join as osj\n",
    "import matplotlib.pyplot as plt\n",
    "from matplotlib.patches import Rectangle\n",
    "from PIL import UnidentifiedImageError\n",
    "from collections import OrderedDict, Counter\n",
    "from utils import read_json, save_json\n",
    "\n",
    "\n",
    "DATA_DIR = '../../../Datasets/Visual_Genome'"
   ],
   "metadata": {
    "collapsed": false,
    "pycharm": {
     "name": "#%%\n"
    }
   }
  },
  {
   "cell_type": "markdown",
   "source": [
    "### Load Data (attr + reg)"
   ],
   "metadata": {
    "collapsed": false,
    "pycharm": {
     "name": "#%% md\n"
    }
   }
  },
  {
   "cell_type": "code",
   "execution_count": 2,
   "outputs": [],
   "source": [
    "data_attr = read_json(osj(DATA_DIR, './attributes.json'))"
   ],
   "metadata": {
    "collapsed": false,
    "pycharm": {
     "name": "#%%\n"
    }
   }
  },
  {
   "cell_type": "code",
   "execution_count": 3,
   "outputs": [],
   "source": [
    "_p1 = glob(osj(DATA_DIR, 'images_1', '*.jpg'))\n",
    "_p2 = glob(osj(DATA_DIR, 'images_2', '*.jpg'))\n",
    "\n",
    "im_paths = _p1 + _p2"
   ],
   "metadata": {
    "collapsed": false,
    "pycharm": {
     "name": "#%%\n"
    }
   }
  },
  {
   "cell_type": "markdown",
   "source": [
    "#### Image Dims"
   ],
   "metadata": {
    "collapsed": false,
    "pycharm": {
     "name": "#%% md\n"
    }
   }
  },
  {
   "cell_type": "code",
   "execution_count": 4,
   "outputs": [
    {
     "name": "stderr",
     "output_type": "stream",
     "text": [
      "100%|██████████| 108246/108246 [00:37<00:00, 2887.53it/s]\n"
     ]
    },
    {
     "data": {
      "text/plain": "'Image Width: µ = 500, σ = 133'"
     },
     "execution_count": 4,
     "metadata": {},
     "output_type": "execute_result"
    }
   ],
   "source": [
    "_corrupt = []\n",
    "\n",
    "def _read_im_size(p: str) -> int:\n",
    "    try:\n",
    "        im = Image.open(p)\n",
    "        w, h = im.size\n",
    "    except UnidentifiedImageError:\n",
    "        _corrupt.append(p)\n",
    "        w, h = 800, 600\n",
    "    return w\n",
    "\n",
    "_sizes = [_read_im_size(path) for path in tqdm(im_paths)]\n",
    "\n",
    "_ = int(np.mean(_sizes))\n",
    "__ = int(np.std(_sizes))\n",
    "\n",
    "f\"Image Width: µ = {_}, σ = {__}\""
   ],
   "metadata": {
    "collapsed": false,
    "pycharm": {
     "name": "#%%\n"
    }
   }
  },
  {
   "cell_type": "code",
   "execution_count": 5,
   "outputs": [],
   "source": [
    "def _path2id(p: str) -> int:\n",
    "    p = p.split('/')[-1]\n",
    "    p = p.split('.')[0]\n",
    "    p = int(p)\n",
    "    return p\n",
    "\n",
    "id2paths = {_path2id(path): path for path in im_paths\n",
    "            if path not in _corrupt}"
   ],
   "metadata": {
    "collapsed": false,
    "pycharm": {
     "name": "#%%\n"
    }
   }
  },
  {
   "cell_type": "markdown",
   "source": [
    "#### Plot Functions"
   ],
   "metadata": {
    "collapsed": false,
    "pycharm": {
     "name": "#%% md\n"
    }
   }
  },
  {
   "cell_type": "code",
   "execution_count": 6,
   "outputs": [],
   "source": [
    "def _annotate(ax, box: list, label: str, color='red'):\n",
    "    x, y, w, h = box\n",
    "    # text\n",
    "    ax.text(x, y-5, label, fontsize=12, color='black', bbox={'facecolor': 'white', 'alpha': 0.4})\n",
    "    # bbox\n",
    "    rect = Rectangle((x, y), w, h, edgecolor=color, facecolor='none')\n",
    "    ax.add_patch(rect)\n",
    "\n",
    "\n",
    "def plot_img_from_region(d: dict, N):\n",
    "    im_id = d['image_id']\n",
    "\n",
    "    img = Image.open(id2paths[im_id])\n",
    "\n",
    "    plt.figure(figsize=(14, 14))\n",
    "    plt.imshow(img)\n",
    "\n",
    "    # reference\n",
    "    axes = plt.gca()\n",
    "\n",
    "    for r in d['regions'][:N]:\n",
    "        text = r['phrase']\n",
    "        bbox = [r['x'], r['y'], r['width'], r['height']]\n",
    "\n",
    "        _annotate(axes, bbox, text)\n",
    "\n",
    "    plt.show()\n",
    "\n",
    "\n",
    "def plot_img_from_attr(d: dict):\n",
    "    im_id = d['image_id']\n",
    "\n",
    "    img = Image.open(id2paths[im_id])\n",
    "\n",
    "    plt.figure(figsize=(14, 14))\n",
    "    plt.imshow(img)\n",
    "\n",
    "    # reference\n",
    "    axes = plt.gca()\n",
    "\n",
    "    for r in d['attributes']:\n",
    "        name = r['names']\n",
    "        synset = r['synsets']\n",
    "\n",
    "        obj = name[0] if len(synset) == 0 else synset[0]\n",
    "\n",
    "        if 'attributes' in r:\n",
    "            attr = r['attributes']\n",
    "\n",
    "            text = f\"{obj}: {attr}\"\n",
    "            bbox = [r['x'], r['y'], r['w'], r['h']]\n",
    "\n",
    "            _annotate(axes, bbox, text)\n",
    "\n",
    "    plt.show()"
   ],
   "metadata": {
    "collapsed": false,
    "pycharm": {
     "name": "#%%\n"
    }
   }
  },
  {
   "cell_type": "markdown",
   "source": [
    "# Visualize Image + BBoxes\n",
    "\n",
    "Set object font color (bbox region) to the model prediction (OFA).\n"
   ],
   "metadata": {
    "collapsed": false,
    "pycharm": {
     "name": "#%% md\n"
    }
   }
  },
  {
   "cell_type": "code",
   "execution_count": 7,
   "outputs": [],
   "source": [
    "# for sample in data_attr[100:200]:\n",
    "#     plot_img_from_attr(sample)"
   ],
   "metadata": {
    "collapsed": false,
    "pycharm": {
     "name": "#%%\n"
    }
   }
  },
  {
   "cell_type": "markdown",
   "source": [
    "####  Object → Images → Colors"
   ],
   "metadata": {
    "collapsed": false,
    "pycharm": {
     "name": "#%% md\n"
    }
   }
  },
  {
   "cell_type": "code",
   "execution_count": 8,
   "outputs": [],
   "source": [
    "def _read_txt(path) -> list:\n",
    "    with open(path) as f:\n",
    "        return f.read().split()\n",
    "\n",
    "\n",
    "synsets = _read_txt('./temp/objects_100.txt')"
   ],
   "metadata": {
    "collapsed": false,
    "pycharm": {
     "name": "#%%\n"
    }
   }
  },
  {
   "cell_type": "code",
   "execution_count": 9,
   "outputs": [],
   "source": [
    "from data_dev import ColorDataDev\n",
    "\n",
    "color_dev = ColorDataDev(data_attr, device='cuda:0')"
   ],
   "metadata": {
    "collapsed": false,
    "pycharm": {
     "name": "#%%\n"
    }
   }
  },
  {
   "cell_type": "code",
   "execution_count": 10,
   "outputs": [
    {
     "name": "stderr",
     "output_type": "stream",
     "text": [
      "100%|██████████| 100/100 [00:39<00:00,  2.54it/s]\n"
     ]
    }
   ],
   "source": [
    "synset2images = color_dev.map_synset_to_images(synsets)"
   ],
   "metadata": {
    "collapsed": false,
    "pycharm": {
     "name": "#%%\n"
    }
   }
  },
  {
   "cell_type": "code",
   "execution_count": 13,
   "outputs": [],
   "source": [
    "save_json(synset2images, path='./temp/objects_to_images_100.json')"
   ],
   "metadata": {
    "collapsed": false,
    "pycharm": {
     "name": "#%%\n"
    }
   }
  },
  {
   "cell_type": "code",
   "execution_count": 10,
   "outputs": [],
   "source": [],
   "metadata": {
    "collapsed": false,
    "pycharm": {
     "name": "#%%\n"
    }
   }
  },
  {
   "cell_type": "code",
   "execution_count": 10,
   "outputs": [],
   "source": [],
   "metadata": {
    "collapsed": false,
    "pycharm": {
     "name": "#%%\n"
    }
   }
  },
  {
   "cell_type": "markdown",
   "source": [
    "### Regions Data\n",
    "\n",
    "We work with subset (10k) of data."
   ],
   "metadata": {
    "collapsed": false,
    "pycharm": {
     "name": "#%% md\n"
    }
   }
  },
  {
   "cell_type": "code",
   "execution_count": 11,
   "outputs": [],
   "source": [
    "data = read_json('./temp/region_graphs_10k.json')"
   ],
   "metadata": {
    "collapsed": false,
    "pycharm": {
     "name": "#%%\n"
    }
   }
  },
  {
   "cell_type": "code",
   "execution_count": 12,
   "outputs": [],
   "source": [
    "# plot_img_from_region(data[24], N=10)"
   ],
   "metadata": {
    "collapsed": false,
    "pycharm": {
     "name": "#%%\n"
    }
   }
  },
  {
   "cell_type": "raw",
   "source": [
    "_d = data[24]\n",
    "_im_id = _d['image_id']\n",
    "\n",
    "\n",
    "def _print(l: list):\n",
    "    for e in l:\n",
    "        print(e)\n",
    "    print()\n",
    "\n",
    "for _r in _d['regions']:\n",
    "    print(_r['phrase'], '\\n')\n",
    "\n",
    "    print('Objects:')\n",
    "    _print(_r['objects'])\n",
    "\n",
    "    print('Synsets:')\n",
    "    _print(_r['synsets'])\n",
    "\n",
    "    print('Relations:')\n",
    "    _print(_r['relationships'])\n",
    "\n",
    "    print('\\n--------------------\\n')\n"
   ],
   "metadata": {
    "collapsed": false,
    "pycharm": {
     "name": "#%% raw\n"
    }
   }
  },
  {
   "cell_type": "code",
   "execution_count": 12,
   "outputs": [],
   "source": [],
   "metadata": {
    "collapsed": false,
    "pycharm": {
     "name": "#%%\n"
    }
   }
  }
 ],
 "metadata": {
  "kernelspec": {
   "display_name": "Python 3",
   "language": "python",
   "name": "python3"
  },
  "language_info": {
   "codemirror_mode": {
    "name": "ipython",
    "version": 2
   },
   "file_extension": ".py",
   "mimetype": "text/x-python",
   "name": "python",
   "nbconvert_exporter": "python",
   "pygments_lexer": "ipython2",
   "version": "2.7.6"
  }
 },
 "nbformat": 4,
 "nbformat_minor": 0
}