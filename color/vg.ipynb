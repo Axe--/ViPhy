{
 "cells": [
  {
   "cell_type": "markdown",
   "source": [
    "# Object → Colors\n",
    "\n",
    "Extract Object Names & Color distribution from caption + image.\n",
    "\n",
    "### \"Visualize Each Stage of Pipeline!\"\n",
    "\n",
    "####  Incremental Development\n",
    "\n",
    "- Objects with `uni`, `bi`, `tri` & `any`:  **1000**\n",
    "- Objects with Qualifiers (context, state): **3000**\n",
    "- Refine names via embedding clusters:    **5000**\n",
    "- Later use Entropy for 'object selection'\n",
    "  (e.g. shoes: party shoes vs tennis shoes)\n",
    "\n",
    "Leverage *ConceptNet-KB* for verifying object names.\n",
    "\n",
    "----\n",
    "\n",
    "\n",
    "#### Object Name Extraction\n",
    "\n",
    "- Fetch object names (and frequency) using POS Tags\n",
    "- Track image & region IDs for each object name\n",
    "- Maintain a flag indicating the presence of object name in ConceptNet"
   ],
   "metadata": {
    "collapsed": false,
    "pycharm": {
     "name": "#%% md\n"
    }
   }
  },
  {
   "cell_type": "code",
   "execution_count": 1,
   "outputs": [],
   "source": [
    "import requests\n",
    "import numpy as np\n",
    "from tqdm import tqdm\n",
    "from os.path import join as osj\n",
    "from utils import read_json, save_json\n",
    "from data_dev import ColorDataDev\n",
    "from collections import OrderedDict, Counter\n",
    "\n",
    "DATA_DIR = '../../../Datasets/Visual_Genome'"
   ],
   "metadata": {
    "collapsed": false,
    "pycharm": {
     "name": "#%%\n"
    }
   }
  },
  {
   "cell_type": "code",
   "execution_count": 2,
   "outputs": [],
   "source": [
    "raw_data = read_json(osj(DATA_DIR, 'region_graphs.json'))"
   ],
   "metadata": {
    "collapsed": false,
    "pycharm": {
     "name": "#%%\n"
    }
   }
  },
  {
   "cell_type": "code",
   "execution_count": 3,
   "outputs": [
    {
     "data": {
      "text/plain": "'Captions per Image: µ = 50, σ = 9'"
     },
     "execution_count": 3,
     "metadata": {},
     "output_type": "execute_result"
    }
   ],
   "source": [
    "caps_img = [len(x['regions']) for x in raw_data]\n",
    "\n",
    "_ = int(np.mean(caps_img))\n",
    "__ = int(np.std(caps_img))\n",
    "\n",
    "f\"Captions per Image: µ = {_}, σ = {__}\"\n",
    "\n"
   ],
   "metadata": {
    "collapsed": false,
    "pycharm": {
     "name": "#%%\n"
    }
   }
  },
  {
   "cell_type": "markdown",
   "source": [
    "## Region Data"
   ],
   "metadata": {
    "collapsed": false,
    "pycharm": {
     "name": "#%% md\n"
    }
   }
  },
  {
   "cell_type": "code",
   "source": [
    "\n",
    "def _print(l: list):\n",
    "    for e in l:\n",
    "        print(e)\n",
    "    print()\n",
    "\n",
    "_idx = 0\n",
    "\n",
    "d = raw_data[_idx]['regions']\n",
    "\n",
    "for x in d:\n",
    "    print(x['phrase'], '\\n')\n",
    "\n",
    "    print('Objects:')\n",
    "    _print(x['objects'])\n",
    "\n",
    "    print('Synsets:')\n",
    "    _print(x['synsets'])\n",
    "\n",
    "    print('Relations:')\n",
    "    _print(x['relationships'])\n",
    "    print('\\n--------------------\\n')\n"
   ],
   "metadata": {
    "collapsed": false,
    "pycharm": {
     "name": "#%%\n"
    }
   },
   "execution_count": null,
   "outputs": []
  },
  {
   "cell_type": "markdown",
   "source": [
    "#### Map Names (synset → entities)\n"
   ],
   "metadata": {
    "collapsed": false,
    "pycharm": {
     "name": "#%% md\n"
    }
   }
  },
  {
   "cell_type": "code",
   "execution_count": 5,
   "outputs": [
    {
     "data": {
      "text/plain": "(19440, 11930)"
     },
     "execution_count": 5,
     "metadata": {},
     "output_type": "execute_result"
    }
   ],
   "source": [
    "synset2names = {}\n",
    "\n",
    "for d in raw_data:\n",
    "    for x in d['regions']:\n",
    "        for s in x['synsets']:\n",
    "            # Entity Name\n",
    "            name = s['entity_name']\n",
    "            # Lowercase\n",
    "            name = name.lower()\n",
    "\n",
    "            if s['synset_name'] not in synset2names:\n",
    "                synset2names[s['synset_name']] = set()\n",
    "\n",
    "            synset2names[s['synset_name']].add(name)\n",
    "\n",
    "sum([len(v) for k,v in synset2names.items()]), len(synset2names)"
   ],
   "metadata": {
    "collapsed": false,
    "pycharm": {
     "name": "#%%\n"
    }
   }
  },
  {
   "cell_type": "code",
   "execution_count": 8,
   "outputs": [],
   "source": [
    "synset2names = OrderedDict(sorted(synset2names.items()))\n",
    "\n",
    "# for syn, names in synset2names.items():\n",
    "#     print(syn, names)\n",
    "\n",
    "synset2names = {syn: list(names) for syn, names in synset2names.items()}\n",
    "\n",
    "# save_json(synset2names, path='./temp/syn2ent.json')"
   ],
   "metadata": {
    "collapsed": false,
    "pycharm": {
     "name": "#%%\n"
    }
   }
  },
  {
   "cell_type": "code",
   "source": [
    "synset_freq = []\n",
    "\n",
    "for d in raw_data:\n",
    "    for x in d['regions']:\n",
    "        for s in x['synsets']:\n",
    "            synset_freq.append(s['synset_name'])\n",
    "\n",
    "synset_freq = Counter(synset_freq)\n",
    "synset_freq = sorted(synset_freq.items(), key=lambda x: x[1], reverse=True)\n",
    "synset_freq = OrderedDict(synset_freq)\n",
    "\n",
    "# save_json(synset_freq, path='./temp/syn_freq.json')"
   ],
   "metadata": {
    "collapsed": false,
    "pycharm": {
     "name": "#%%\n"
    }
   },
   "execution_count": 10,
   "outputs": []
  },
  {
   "cell_type": "code",
   "execution_count": null,
   "outputs": [],
   "source": [
    "_f = [f for s, f in synset_freq]\n",
    "print('Freq: {:.2f} ({:.2f})'.format(np.mean(_f), np.std(_f)))\n"
   ],
   "metadata": {
    "collapsed": false,
    "pycharm": {
     "name": "#%%\n"
    }
   }
  },
  {
   "cell_type": "raw",
   "source": [
    "\n",
    "-------------------------------------------------------------------\n"
   ],
   "metadata": {
    "collapsed": false,
    "pycharm": {
     "name": "#%% raw\n"
    }
   }
  },
  {
   "cell_type": "markdown",
   "source": [
    "<br>\n",
    "<br>\n",
    "\n",
    "## Attributes Data"
   ],
   "metadata": {
    "collapsed": false
   }
  },
  {
   "cell_type": "code",
   "execution_count": 2,
   "outputs": [],
   "source": [
    "raw_data = read_json(osj(DATA_DIR, 'attributes.json'))"
   ],
   "metadata": {
    "collapsed": false,
    "pycharm": {
     "name": "#%%\n"
    }
   }
  },
  {
   "cell_type": "code",
   "execution_count": 7,
   "outputs": [
    {
     "name": "stderr",
     "output_type": "stream",
     "text": [
      "100%|██████████| 108077/108077 [00:00<00:00, 2019980.19it/s]\n"
     ]
    },
    {
     "data": {
      "text/plain": "'Objects per Image: µ = 35, σ = 20'"
     },
     "execution_count": 7,
     "metadata": {},
     "output_type": "execute_result"
    }
   ],
   "source": [
    "objs_img = [len(d['attributes']) for d in tqdm(raw_data)]\n",
    "\n",
    "_ = int(np.mean(objs_img))\n",
    "__ = int(np.std(objs_img))\n",
    "\n",
    "f\"Objects per Image: µ = {_}, σ = {__}\""
   ],
   "metadata": {
    "collapsed": false,
    "pycharm": {
     "name": "#%%\n"
    }
   }
  },
  {
   "cell_type": "code",
   "execution_count": 8,
   "outputs": [
    {
     "name": "stderr",
     "output_type": "stream",
     "text": [
      "100%|██████████| 108077/108077 [00:00<00:00, 228233.39it/s]\n"
     ]
    },
    {
     "data": {
      "text/plain": "'Attributes per Image: µ = 15, σ = 9'"
     },
     "execution_count": 8,
     "metadata": {},
     "output_type": "execute_result"
    }
   ],
   "source": [
    "attrs_img = []\n",
    "\n",
    "for d in tqdm(raw_data):\n",
    "    num_attrs = 0\n",
    "    for x in d['attributes']:\n",
    "        if 'attributes' in x:\n",
    "            num_attrs += 1\n",
    "\n",
    "    attrs_img.append(num_attrs)\n",
    "\n",
    "_ = int(np.mean(attrs_img))\n",
    "__ = int(np.std(attrs_img))\n",
    "\n",
    "f\"Attributes per Image: µ = {_}, σ = {__}\""
   ],
   "metadata": {
    "collapsed": false,
    "pycharm": {
     "name": "#%%\n"
    }
   }
  },
  {
   "cell_type": "code",
   "execution_count": 4,
   "outputs": [
    {
     "name": "stdout",
     "output_type": "stream",
     "text": [
      "office phone :  ['multi-line phone']\n",
      "outlet :  ['electrical']\n",
      "outlet :  ['data line']\n",
      "keyboard :  ['white']\n",
      "monitor :  ['white', 'switched off', 'turned off']\n",
      "cpu :  ['computer tower']\n",
      "desktop :  ['curved']\n",
      "filing cabinet\n",
      "drawer\n",
      "drawer\n",
      "computer case :  ['black', 'leather']\n",
      "mouse :  ['white']\n",
      "wireless phone\n",
      "office phone base\n",
      "desk\n",
      "multiple outlet\n",
      "plug\n",
      "plug\n",
      "plug\n",
      "plug\n",
      "girl :  ['sitting']\n",
      "monitor :  ['off']\n",
      "wall\n",
      "hair :  ['long']\n",
      "chain\n",
      "pen :  ['blue', 'yellow', 'black']\n",
      "cable\n",
      "floor\n",
      "cable\n",
      "pluged\n",
      "bag :  ['black']\n",
      "wall\n",
      "black hair\n",
      "telephone :  ['black']\n",
      "white top\n",
      "strap :  ['black']\n",
      "cubicles\n",
      "dividing screen\n",
      "picture\n",
      "picture :  ['hanged']\n",
      "computer\n",
      "cables\n",
      "wall\n",
      "photos\n",
      "table :  ['white']\n",
      "handle\n",
      "floor\n",
      "necklace\n",
      "grey keys\n",
      "desk\n",
      "computer tower\n",
      "cabinet :  ['grey', 'beige']\n"
     ]
    }
   ],
   "source": [
    "# Explore an Image\n",
    "\n",
    "_idx = 2\n",
    "\n",
    "d = raw_data[_idx]['attributes']\n",
    "\n",
    "for x in d:\n",
    "    name = x['names'][0]\n",
    "    if 'attributes' in x:\n",
    "        print(name, ': ', x['attributes'])\n",
    "    else:\n",
    "        print(name)"
   ],
   "metadata": {
    "collapsed": false,
    "pycharm": {
     "name": "#%%\n"
    }
   }
  },
  {
   "cell_type": "code",
   "execution_count": 9,
   "outputs": [
    {
     "data": {
      "text/plain": "'Names per sample: µ = 1.02, σ = 0.19'"
     },
     "execution_count": 9,
     "metadata": {},
     "output_type": "execute_result"
    }
   ],
   "source": [
    "_names = []\n",
    "\n",
    "multi_name_data = []\n",
    "\n",
    "for d in raw_data:\n",
    "    for x in d['attributes']:\n",
    "        n = x['names']\n",
    "        if len(n) > 1:\n",
    "            multi_name_data.append(x)\n",
    "        _names.append(len(n))\n",
    "\n",
    "_ = np.mean(_names)\n",
    "__ = np.std(_names)\n",
    "\n",
    "f\"Names per sample: µ = {_:.2f}, σ = {__:.2f}\""
   ],
   "metadata": {
    "collapsed": false,
    "pycharm": {
     "name": "#%%\n"
    }
   }
  },
  {
   "cell_type": "markdown",
   "source": [
    "#### Map Attributes (one:many) → Object: Attributes"
   ],
   "metadata": {
    "collapsed": false,
    "pycharm": {
     "name": "#%% md\n"
    }
   }
  },
  {
   "cell_type": "code",
   "execution_count": 9,
   "outputs": [
    {
     "data": {
      "text/plain": "'Attributes per Object: µ = 8.08, σ = 53.75'"
     },
     "execution_count": 9,
     "metadata": {},
     "output_type": "execute_result"
    }
   ],
   "source": [
    "obj2attr = {}\n",
    "\n",
    "for d in raw_data:\n",
    "    for x in d['attributes']:\n",
    "        if 'attributes' in x:\n",
    "            for name in x['names']:\n",
    "                if name not in obj2attr:\n",
    "                    obj2attr[name] = set()\n",
    "                for attr in x['attributes']:\n",
    "                    attr = attr.lower()\n",
    "                    obj2attr[name].add(attr)\n",
    "\n",
    "_attr_per_obj = [len(a) for o, a in obj2attr.items()]\n",
    "\n",
    "# Sort by num attributes\n",
    "obj2attr = OrderedDict(sorted(obj2attr.items(), key=lambda x: len(x[1])))\n",
    "\n",
    "_ = np.mean(_attr_per_obj)\n",
    "__ = np.std(_attr_per_obj)\n",
    "\n",
    "f\"Attributes per Object: µ = {_:.2f}, σ = {__:.2f}\""
   ],
   "metadata": {
    "collapsed": false,
    "pycharm": {
     "name": "#%%\n"
    }
   }
  },
  {
   "cell_type": "markdown",
   "source": [
    "#### Filter Objects with ConceptNet"
   ],
   "metadata": {
    "collapsed": false,
    "pycharm": {
     "name": "#%% md\n"
    }
   }
  },
  {
   "cell_type": "code",
   "execution_count": 1,
   "outputs": [
    {
     "data": {
      "text/plain": "'TODO'"
     },
     "execution_count": 1,
     "metadata": {},
     "output_type": "execute_result"
    }
   ],
   "source": [
    "# save_json(obj2attr_cn, path='./temp/object_with_attr_conceptnet.json')"
   ],
   "metadata": {
    "collapsed": false,
    "pycharm": {
     "name": "#%%\n"
    }
   }
  },
  {
   "cell_type": "code",
   "execution_count": null,
   "outputs": [],
   "source": [],
   "metadata": {
    "collapsed": false,
    "pycharm": {
     "name": "#%%\n"
    }
   }
  },
  {
   "cell_type": "code",
   "execution_count": null,
   "outputs": [],
   "source": [],
   "metadata": {
    "collapsed": false,
    "pycharm": {
     "name": "#%%\n"
    }
   }
  },
  {
   "cell_type": "code",
   "source": [
    "# Sort objects based on entropy (skewness) of color (i.e. school bus > jeans)\n"
   ],
   "metadata": {
    "collapsed": false,
    "pycharm": {
     "name": "#%%\n"
    }
   },
   "execution_count": null,
   "outputs": []
  }
 ],
 "metadata": {
  "kernelspec": {
   "display_name": "Python 3",
   "language": "python",
   "name": "python3"
  },
  "language_info": {
   "codemirror_mode": {
    "name": "ipython",
    "version": 2
   },
   "file_extension": ".py",
   "mimetype": "text/x-python",
   "name": "python",
   "nbconvert_exporter": "python",
   "pygments_lexer": "ipython2",
   "version": "2.7.6"
  }
 },
 "nbformat": 4,
 "nbformat_minor": 0
}