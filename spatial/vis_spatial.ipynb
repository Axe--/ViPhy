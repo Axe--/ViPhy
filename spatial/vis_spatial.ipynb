{
 "cells": [
  {
   "cell_type": "markdown",
   "source": [
    "# Spatial Relation Pipeline\n",
    "\n",
    "### Visualization Workflow\n",
    "\n",
    "Image + Annot-json --> Names-in-Image\n",
    "\n",
    "Image --> Depth --> Cluster(k)-Image --> Y-rel-Pairs-Image\n",
    "\n",
    "Vis-Tool: https://github.com/wkentaro/imgviz#examples"
   ],
   "metadata": {
    "collapsed": false,
    "pycharm": {
     "name": "#%% md\n"
    }
   }
  },
  {
   "cell_type": "code",
   "execution_count": 1,
   "outputs": [],
   "source": [
    "import pickle\n",
    "from os.path import join as osj\n",
    "from im_utils import read_json"
   ],
   "metadata": {
    "collapsed": false,
    "pycharm": {
     "name": "#%%\n"
    }
   }
  },
  {
   "cell_type": "code",
   "execution_count": 2,
   "outputs": [],
   "source": [
    "# Data Directory\n",
    "root_dir = '/PATH-TO/ROOT-DIR'\n",
    "\n",
    "# Load Dataset\n",
    "with open(root_dir + '/ADE20K_2021_17_01/index_ade20k.pkl', 'rb') as f:\n",
    "    ade20k = pickle.load(f)\n"
   ],
   "metadata": {
    "collapsed": false,
    "pycharm": {
     "name": "#%%\n"
    }
   }
  },
  {
   "cell_type": "code",
   "execution_count": null,
   "outputs": [],
   "source": [
    "...\n",
    "\n",
    "\n"
   ],
   "metadata": {
    "collapsed": false,
    "pycharm": {
     "name": "#%%\n"
    }
   }
  },
  {
   "cell_type": "markdown",
   "source": [
    "### TODO (Later)\n",
    "Scene_Name --> Object: Count (+ part_names)"
   ],
   "metadata": {
    "collapsed": false
   }
  },
  {
   "cell_type": "code",
   "execution_count": 3,
   "outputs": [],
   "source": [
    "all_scenes = list(set(ade20k['scene']))"
   ],
   "metadata": {
    "collapsed": false,
    "pycharm": {
     "name": "#%%\n"
    }
   }
  },
  {
   "cell_type": "code",
   "execution_count": null,
   "outputs": [],
   "source": [
    "obj_freqs = ade20k['objectcounts']\n",
    "obj_names = ade20k['objectnames']\n",
    "\n",
    "name_freq_dict = {n: f for f, n in zip(obj_freqs, obj_names) if f > 0}\n",
    "name_freq_dict = dict(sorted(name_freq_dict.items(), key=lambda x: x[1], reverse=True))"
   ],
   "metadata": {
    "collapsed": false,
    "pycharm": {
     "name": "#%%\n"
    }
   }
  },
  {
   "cell_type": "code",
   "execution_count": null,
   "outputs": [],
   "source": [
    "total_present_objs = sum(1 for o_f in obj_freqs if o_f > 1)\n",
    "\n",
    "\n",
    "names = {}\n",
    "raw_names = {}\n",
    "\n",
    "for fname, fpath, scene in zip(ade20k['filename'], ade20k['folder'], ade20k['scene']):\n",
    "    # annot file\n",
    "    path = osj(root_dir, fpath, fname.replace('jpg', 'json'))\n",
    "\n",
    "    annot = read_json(path)['annotation']\n",
    "\n",
    "    for obj in annot['object']:\n",
    "        if obj['name'] not in names:\n",
    "            names[obj['name']] = 0\n",
    "        names[obj['name']] += 1\n",
    "\n",
    "        if obj['raw_name'] not in raw_names:\n",
    "            raw_names[obj['raw_name']] = 0\n",
    "        raw_names[obj['raw_name']] += 1\n",
    "\n",
    "names = sorted(names.items(), key=lambda x: x[1], reverse=True)\n",
    "raw_names = sorted(raw_names.items(), key=lambda x: x[1], reverse=True)\n",
    "\n",
    "_raw = [n for n in raw_names if n[1] > 50]\n"
   ],
   "metadata": {
    "collapsed": false,
    "pycharm": {
     "name": "#%%\n"
    }
   }
  }
 ],
 "metadata": {
  "kernelspec": {
   "display_name": "Python 3",
   "language": "python",
   "name": "python3"
  },
  "language_info": {
   "codemirror_mode": {
    "name": "ipython",
    "version": 2
   },
   "file_extension": ".py",
   "mimetype": "text/x-python",
   "name": "python",
   "nbconvert_exporter": "python",
   "pygments_lexer": "ipython2",
   "version": "2.7.6"
  }
 },
 "nbformat": 4,
 "nbformat_minor": 0
}