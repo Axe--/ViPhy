{
 "cells": [
  {
   "cell_type": "markdown",
   "metadata": {
    "collapsed": true,
    "pycharm": {
     "name": "#%% md\n"
    }
   },
   "source": [
    "# Show N-Bar Plot for Size experiments\n",
    "\n",
    "Show random & human performance (dashed-lines)\n"
   ]
  },
  {
   "cell_type": "code",
   "source": [
    "# cap_bert = [83.69, 79.14, 91.82]\n",
    "# bert_base = [78.35, 72.28, 77.29]\n",
    "# flava = [82.67, 69.54, 81.78]\n",
    "# vilt = [78.54, 57.32, 86.18]\n"
   ],
   "metadata": {
    "collapsed": false,
    "pycharm": {
     "name": "#%%\n"
    }
   },
   "execution_count": 1,
   "outputs": []
  },
  {
   "cell_type": "code",
   "execution_count": 4,
   "outputs": [
    {
     "data": {
      "text/plain": "<Figure size 864x576 with 1 Axes>",
      "image/png": "[encoded data removed]"
     },
     "metadata": {
      "needs_background": "light"
     },
     "output_type": "display_data"
    }
   ],
   "source": [
    "import numpy as np\n",
    "import matplotlib.pyplot as plt\n",
    "\n",
    "# Figure & Axes\n",
    "_, ax = plt.subplots(figsize=(12, 8))\n",
    "\n",
    "# Inputs\n",
    "std = [83.69, 78.35, 82.67, 78.54]\n",
    "sub = [79.14, 72.28, 69.54, 57.32]\n",
    "trs = [91.82, 77.29, 81.78, 86.18]\n",
    "\n",
    "# set width of bar\n",
    "barWidth = 0.25\n",
    "\n",
    "# Set position of bar on X axis\n",
    "br1 = np.arange(len(std))\n",
    "br2 = [x + barWidth for x in br1]\n",
    "br3 = [x + barWidth for x in br2]\n",
    "\n",
    "# Make the plot\n",
    "ax.bar(br1, std, color='coral', label='Standard', width=barWidth)\n",
    "ax.bar(br2, sub, color='gold', label='Subtype', width=barWidth)\n",
    "ax.bar(br3, trs, color='lightgreen', label='Transitive', width=barWidth)\n",
    "\n",
    "# plt.axhline(50, color='grey', ls='dotted')\n",
    "plt.axhline(94, color='grey', ls='dashed')\n",
    "\n",
    "# Annotate Axis\n",
    "# plt.xlabel('Models', fontsize=15)\n",
    "ax.set_ylim([50, 100])\n",
    "plt.ylabel('Accuracy', fontsize=12)\n",
    "plt.yticks(fontsize=12)\n",
    "plt.xticks([r + barWidth for r in range(len(std))],\n",
    "           ['CapBERT', 'BERT-base', 'FLAVA', 'ViLT'], fontsize=14)\n",
    "\n",
    "plt.legend()\n",
    "plt.show()\n",
    "# plt.savefig('size_expt.pdf', bbox_inches='tight')"
   ],
   "metadata": {
    "collapsed": false,
    "pycharm": {
     "name": "#%%\n"
    }
   }
  },
  {
   "cell_type": "code",
   "execution_count": null,
   "outputs": [],
   "source": [],
   "metadata": {
    "collapsed": false,
    "pycharm": {
     "name": "#%%\n"
    }
   }
  },
  {
   "cell_type": "code",
   "execution_count": null,
   "outputs": [],
   "source": [
    "# plot lines\n",
    "# col_b, = plt.plot(x, bert_acc, label=\"BERT\", linestyle='-', color='green')\n",
    "# col_f, = plt.plot(x, flava_acc, label=\"FLAVA\", linestyle='-', color='tomato')\n",
    "# col_c, = plt.plot(x, clip_acc, label=\"CLIP\", linestyle='-', color='dodgerblue')\n",
    "\n",
    "# color_legend = plt.legend(handles=[col_b, col_f, col_c], loc='upper left')\n",
    "#\n",
    "# line_acc, = plt.plot([1], [1], label=\"R-Acc\", linestyle='-', color='black')\n",
    "# line_conf, = plt.plot([1], [1], label=\"Conf\", linestyle='-.', color='black')\n",
    "#\n",
    "# plt.gca().add_artist(color_legend)\n",
    "# style_legend = plt.legend(handles=[line_acc, line_conf], loc='lower right')"
   ],
   "metadata": {
    "collapsed": false,
    "pycharm": {
     "name": "#%%\n"
    }
   }
  }
 ],
 "metadata": {
  "kernelspec": {
   "display_name": "Python 3",
   "language": "python",
   "name": "python3"
  },
  "language_info": {
   "codemirror_mode": {
    "name": "ipython",
    "version": 2
   },
   "file_extension": ".py",
   "mimetype": "text/x-python",
   "name": "python",
   "nbconvert_exporter": "python",
   "pygments_lexer": "ipython2",
   "version": "2.7.6"
  }
 },
 "nbformat": 4,
 "nbformat_minor": 0
}