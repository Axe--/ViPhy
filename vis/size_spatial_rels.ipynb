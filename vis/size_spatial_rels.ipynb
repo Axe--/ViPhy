{
 "cells": [
  {
   "cell_type": "markdown",
   "metadata": {
    "collapsed": true,
    "pycharm": {
     "name": "#%% md\n"
    }
   },
   "source": [
    "## Visualize Spatial & Size relations (freq)\n"
   ]
  },
  {
   "cell_type": "code",
   "execution_count": null,
   "outputs": [],
   "source": [
    "import pandas as pd\n",
    "import matplotlib.pyplot as plt"
   ],
   "metadata": {
    "collapsed": false,
    "pycharm": {
     "name": "#%%\n"
    }
   }
  },
  {
   "cell_type": "code",
   "execution_count": null,
   "outputs": [],
   "source": [
    "def _visualize(n_show, _scene='bedroom'):\n",
    "    from utils import to_prob_dist\n",
    "\n",
    "    # Read dataset\n",
    "    df = pd.read_csv('../results/spatial.csv', sep=',')\n",
    "\n",
    "    # Filter scene\n",
    "    df = df[df['scene'] == _scene]\n",
    "\n",
    "    # Pair names\n",
    "    df['pair'] = df.apply(lambda r: r['o1'] + '\\n' + r['o2'], axis=1)\n",
    "\n",
    "    # Drop others\n",
    "    df = df.drop(columns=['o1', 'o2', 'scene',\n",
    "                          'freq', 'typical'])\n",
    "    # Select subset\n",
    "    df = df.sample(n_show, replace=False)\n",
    "\n",
    "    # Convert freq to distribution\n",
    "    vis_data = []\n",
    "    for d in df.to_dict(orient='records'):\n",
    "        pair = d.pop('pair')\n",
    "        # distribution\n",
    "        dist = to_prob_dist(d)\n",
    "        dist['pair'] = pair\n",
    "\n",
    "        vis_data.append(dist)\n",
    "\n",
    "    df = pd.DataFrame(vis_data)\n",
    "\n",
    "    # Relations: >, =, <\n",
    "    color_set = ['deepskyblue', 'gold', 'green']\n",
    "\n",
    "    # Bar plot\n",
    "    df.plot.bar(x='pair', stacked=True, color=color_set, title=_scene.upper(),\n",
    "                edgecolor=\"lightgray\", figsize=(40, 24), rot=60)\n",
    "    plt.xticks(fontsize=20)\n",
    "    plt.legend(loc=(1.02, 0), prop={'size': 20})\n",
    "    plt.margins(x=0.1)\n",
    "    plt.show()\n"
   ],
   "metadata": {
    "collapsed": false,
    "pycharm": {
     "name": "#%%\n"
    }
   }
  },
  {
   "cell_type": "code",
   "execution_count": null,
   "outputs": [],
   "source": [
    "# for s in ['kitchen', ...]:\n",
    "#     _visualize(n_show=30, _scene=s)"
   ],
   "metadata": {
    "collapsed": false,
    "pycharm": {
     "name": "#%%\n"
    }
   }
  }
 ],
 "metadata": {
  "kernelspec": {
   "display_name": "Python 3",
   "language": "python",
   "name": "python3"
  },
  "language_info": {
   "codemirror_mode": {
    "name": "ipython",
    "version": 2
   },
   "file_extension": ".py",
   "mimetype": "text/x-python",
   "name": "python",
   "nbconvert_exporter": "python",
   "pygments_lexer": "ipython2",
   "version": "2.7.6"
  }
 },
 "nbformat": 4,
 "nbformat_minor": 0
}