{
 "cells": [
  {
   "cell_type": "markdown",
   "metadata": {
    "collapsed": true,
    "pycharm": {
     "name": "#%% md\n"
    }
   },
   "source": [
    "## Error Analysis: Scene types\n",
    "\n",
    "- Clean up raw scene names\n",
    "- Build Scene:doc -- Object:term\n",
    "- Map object to scene(s)\n",
    "- Report scene-wise performance"
   ]
  },
  {
   "cell_type": "code",
   "execution_count": 18,
   "outputs": [],
   "source": [
    "import os\n",
    "import numpy as np\n",
    "import pandas as pd\n",
    "from collections import Counter\n",
    "from utils import read_json, sort_dict"
   ],
   "metadata": {
    "collapsed": false,
    "pycharm": {
     "name": "#%%\n"
    }
   }
  },
  {
   "cell_type": "code",
   "execution_count": 19,
   "outputs": [],
   "source": [
    "path = os.path.join(os.environ['VG'], 'region_ros.json')\n",
    "\n",
    "jsn = read_json(path)\n",
    "inp = read_json('./img2scene.json')"
   ],
   "metadata": {
    "collapsed": false,
    "pycharm": {
     "name": "#%%\n"
    }
   }
  },
  {
   "cell_type": "markdown",
   "source": [
    "### Clean Scene names"
   ],
   "metadata": {
    "collapsed": false,
    "pycharm": {
     "name": "#%% md\n"
    }
   }
  },
  {
   "cell_type": "code",
   "execution_count": 20,
   "outputs": [],
   "source": [
    "_REMOVE = ['a', 'an', 'the', 'at', 'in', 'front', 'of', 'on', 'by', 'side', 'along', 'corner',\n",
    "          'outside', 'inside', 'next', 'near', 'top', 'under', \"someone's\", \"person's\"]\n",
    "\n",
    "skip = 'texas,india,china,japan,hong kong,england,germany,italy,australia,london,paris,amsterdam,san francisco,washington dc,new orleans,pen,hand'\n",
    "skip = skip.split(',')\n",
    "\n",
    "def _clean(s: str):\n",
    "    s = s.split()\n",
    "    for w in _REMOVE:\n",
    "        if w in s:\n",
    "            s.remove(w)\n",
    "    return ' '.join(s)"
   ],
   "metadata": {
    "collapsed": false,
    "pycharm": {
     "name": "#%%\n"
    }
   }
  },
  {
   "cell_type": "code",
   "execution_count": 21,
   "outputs": [],
   "source": [
    "scenes = [_clean(s) for s in inp.values()]\n",
    "\n",
    "scenes = dict(Counter([s for s in scenes if s not in skip]))"
   ],
   "metadata": {
    "collapsed": false,
    "pycharm": {
     "name": "#%%\n"
    }
   }
  },
  {
   "cell_type": "code",
   "execution_count": 22,
   "outputs": [
    {
     "data": {
      "text/plain": "(3364, 384)"
     },
     "execution_count": 22,
     "metadata": {},
     "output_type": "execute_result"
    }
   ],
   "source": [
    "scn_low_freq = {s: f for s, f in scenes.items() if f < 10}\n",
    "\n",
    "sum(scn_low_freq.values()), len(scenes) - len(scn_low_freq)"
   ],
   "metadata": {
    "collapsed": false,
    "pycharm": {
     "name": "#%%\n"
    }
   }
  },
  {
   "cell_type": "code",
   "execution_count": 23,
   "outputs": [],
   "source": [
    "raw2clean = 'city:street,city street:street,africa:savannah,new york:street,new york city:street,the street:street,busy street:street,' + \\\n",
    "            'starbucks:coffee shop,large body water:water,the road:road,alleyway:alley,body water:water,wooded area:woods,' + \\\n",
    "            'small town:rural area,pizza parlor:pizzeria,public bathroom:public restroom,skatepark:skate park,tree:trees,' + \\\n",
    "            'railroad track:railroad,railroad tracks:railroad,shopping mall:mall,shopping center:mall,swimming pool:pool,' + \\\n",
    "            'train track:train tracks,wedding reception:wedding,tennis match:tennis court,window sill:windowsill'\n",
    "\n",
    "raw2clean = {s.split(':')[0]: s.split(':')[1] for s in raw2clean.split(',')}"
   ],
   "metadata": {
    "collapsed": false,
    "pycharm": {
     "name": "#%%\n"
    }
   }
  },
  {
   "cell_type": "code",
   "execution_count": 24,
   "outputs": [
    {
     "data": {
      "text/plain": "357"
     },
     "execution_count": 24,
     "metadata": {},
     "output_type": "execute_result"
    }
   ],
   "source": [
    "# Rename / Remove scenes\n",
    "img2scn = {}\n",
    "\n",
    "for im, scn in inp.items():\n",
    "    scn = _clean(scn)\n",
    "\n",
    "    if scn in skip or scenes[scn] < 10:\n",
    "        scn = 'SKIP'\n",
    "\n",
    "    if scn in raw2clean:\n",
    "        scn = raw2clean[scn]\n",
    "\n",
    "    img2scn[im] = scn\n",
    "\n",
    "img2scn = {int(im): scn for im, scn in img2scn.items() if scn not in ['', 'SKIP']}\n",
    "\n",
    "len(set(img2scn.values()))"
   ],
   "metadata": {
    "collapsed": false,
    "pycharm": {
     "name": "#%%\n"
    }
   }
  },
  {
   "cell_type": "code",
   "execution_count": 25,
   "outputs": [
    {
     "data": {
      "text/plain": "[('street', 11579),\n ('restaurant', 4716),\n ('field', 4213),\n ('kitchen', 4207),\n ('house', 3910),\n ('beach', 3837),\n ('park', 3716),\n ('zoo', 3384),\n ('bathroom', 3214),\n ('building', 3197),\n ('tennis court', 2980),\n ('ski slope', 2684),\n ('baseball field', 2543),\n ('living room', 2435),\n ('train station', 2193),\n ('ocean', 2127),\n ('bedroom', 1983),\n ('sidewalk', 1953),\n ('airport', 1925),\n ('parking lot', 1745),\n ('table', 1473),\n ('savannah', 1388),\n ('office', 1367),\n ('skate park', 1209),\n ('river', 996),\n ('road', 853),\n ('water', 850),\n ('woods', 846),\n ('sky', 803),\n ('hotel room', 749)]"
     },
     "execution_count": 25,
     "metadata": {},
     "output_type": "execute_result"
    }
   ],
   "source": [
    "Counter(img2scn.values()).most_common(30)\n"
   ],
   "metadata": {
    "collapsed": false,
    "pycharm": {
     "name": "#%%\n"
    }
   }
  },
  {
   "cell_type": "code",
   "execution_count": 26,
   "outputs": [
    {
     "data": {
      "text/plain": "100"
     },
     "execution_count": 26,
     "metadata": {},
     "output_type": "execute_result"
    }
   ],
   "source": [
    "MIN_SCENE_FREQ = 100\n",
    "\n",
    "scenes = {s: f for s, f in scenes.items() if f >= MIN_SCENE_FREQ}\n",
    "\n",
    "len(scenes)"
   ],
   "metadata": {
    "collapsed": false,
    "pycharm": {
     "name": "#%%\n"
    }
   }
  },
  {
   "cell_type": "markdown",
   "source": [
    "<br>\n",
    "\n",
    "### Object-Scene relations\n",
    "\n",
    "- Frequent Objects per scene\n",
    "- Object Class density per scene\n"
   ],
   "metadata": {
    "collapsed": false,
    "pycharm": {
     "name": "#%% md\n"
    }
   }
  },
  {
   "cell_type": "code",
   "execution_count": 27,
   "outputs": [
    {
     "name": "stderr",
     "output_type": "stream",
     "text": [
      "100%|██████████| 108077/108077 [00:01<00:00, 72404.49it/s]\n"
     ]
    }
   ],
   "source": [
    "from tqdm import tqdm\n",
    "\n",
    "scene2objects = {}\n",
    "\n",
    "for d in tqdm(jsn):\n",
    "    _id = d['image_id']\n",
    "    regs = d['ros']\n",
    "    if _id in img2scn:\n",
    "        scn = img2scn[_id]\n",
    "        objs = []\n",
    "        for r in regs:\n",
    "            objs += list(r.values())\n",
    "\n",
    "        if scn not in scene2objects:\n",
    "            scene2objects[scn] = []\n",
    "\n",
    "        scene2objects[scn] += objs"
   ],
   "metadata": {
    "collapsed": false,
    "pycharm": {
     "name": "#%%\n"
    }
   }
  },
  {
   "cell_type": "code",
   "execution_count": 28,
   "outputs": [],
   "source": [
    "scene2objects = {scn: dict(Counter(objs)) for scn, objs in scene2objects.items()}"
   ],
   "metadata": {
    "collapsed": false,
    "pycharm": {
     "name": "#%%\n"
    }
   }
  },
  {
   "cell_type": "code",
   "execution_count": 29,
   "outputs": [],
   "source": [
    "scn2obj_freq = {s: (np.mean(list(o.values())), np.std(list(o.values()))) for s, o in scene2objects.items()}"
   ],
   "metadata": {
    "collapsed": false,
    "pycharm": {
     "name": "#%%\n"
    }
   }
  },
  {
   "cell_type": "markdown",
   "source": [
    "### Model Performance\n",
    "\n",
    "#### R-Acc"
   ],
   "metadata": {
    "collapsed": false,
    "pycharm": {
     "name": "#%% md\n"
    }
   }
  },
  {
   "cell_type": "code",
   "execution_count": 67,
   "outputs": [],
   "source": [
    "test = read_json('../dataset/color/test.json')\n",
    "\n",
    "SCORE = {'bert': 66.87, 'clip': 79.96}"
   ],
   "metadata": {
    "collapsed": false,
    "pycharm": {
     "name": "#%%\n"
    }
   }
  },
  {
   "cell_type": "code",
   "execution_count": 75,
   "outputs": [],
   "source": [
    "MODEL = 'clip'\n",
    "\n",
    "df = pd.read_csv(f'../temp/{MODEL}_col.csv')\n",
    "\n",
    "df['pred'] = df['pred'].apply(lambda x: str(x))\n",
    "df['correct'] = df.apply(lambda x: x['pred'] in x['true'], axis=1)\n",
    "\n",
    "obj2correct = {o: c for o, c in zip(list(test), df['correct'].tolist())}"
   ],
   "metadata": {
    "collapsed": false,
    "pycharm": {
     "name": "#%%\n"
    }
   }
  },
  {
   "cell_type": "code",
   "execution_count": 76,
   "outputs": [],
   "source": [
    "scene2acc = {}\n",
    "for scn, objs in scene2objects.items():\n",
    "    if scn in scenes:\n",
    "        correct = [obj2correct[o] for o in objs if o in obj2correct]\n",
    "        scene2acc[scn] = np.mean(correct)\n",
    "\n",
    "# scene2acc = sort_dict(scene2acc, by='v', reverse=True)\n",
    "scene2acc = sort_dict(scene2acc, by='k', reverse=True)"
   ],
   "metadata": {
    "collapsed": false,
    "pycharm": {
     "name": "#%%\n"
    }
   }
  },
  {
   "cell_type": "markdown",
   "source": [
    "#### Bar Plot"
   ],
   "metadata": {
    "collapsed": false,
    "pycharm": {
     "name": "#%% md\n"
    }
   }
  },
  {
   "cell_type": "code",
   "execution_count": 77,
   "outputs": [
    {
     "data": {
      "text/plain": "<Figure size 720x1440 with 1 Axes>",
      "image/png": "[encoded data removed]"
     },
     "metadata": {
      "needs_background": "light"
     },
     "output_type": "display_data"
    }
   ],
   "source": [
    "import matplotlib.pyplot as plt\n",
    "\n",
    "def _scale(arr, by=100):\n",
    "    return [_ * by for _ in arr]\n",
    "\n",
    "plt.figure(figsize=(10,20))\n",
    "\n",
    "# inputs\n",
    "scores = _scale(scene2acc.values())\n",
    "bars = scene2acc\n",
    "\n",
    "y_pos = np.arange(len(bars))\n",
    "\n",
    "# horizontal bars\n",
    "plt.barh(y_pos, scores)\n",
    "plt.xlim([50, 100])\n",
    "\n",
    "plt.yticks(y_pos, bars)\n",
    "\n",
    "# mean score\n",
    "plt.axvline(x=SCORE[MODEL],color='y')\n",
    "\n",
    "# plt.show()\n",
    "plt.savefig(f'err_scene_{MODEL}.pdf', bbox_inches='tight')"
   ],
   "metadata": {
    "collapsed": false,
    "pycharm": {
     "name": "#%%\n"
    }
   }
  },
  {
   "cell_type": "code",
   "execution_count": null,
   "outputs": [],
   "source": [],
   "metadata": {
    "collapsed": false,
    "pycharm": {
     "name": "#%%\n"
    }
   }
  }
 ],
 "metadata": {
  "kernelspec": {
   "display_name": "Python 3",
   "language": "python",
   "name": "python3"
  },
  "language_info": {
   "codemirror_mode": {
    "name": "ipython",
    "version": 2
   },
   "file_extension": ".py",
   "mimetype": "text/x-python",
   "name": "python",
   "nbconvert_exporter": "python",
   "pygments_lexer": "ipython2",
   "version": "2.7.6"
  }
 },
 "nbformat": 4,
 "nbformat_minor": 0
}