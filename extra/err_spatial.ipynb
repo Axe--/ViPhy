{
 "cells": [
  {
   "cell_type": "markdown",
   "metadata": {
    "collapsed": true,
    "pycharm": {
     "name": "#%% md\n"
    }
   },
   "source": [
    "# Spatial: Error Analysis"
   ]
  },
  {
   "cell_type": "code",
   "execution_count": 27,
   "outputs": [],
   "source": [
    "import pandas as pd\n",
    "import matplotlib.pyplot as plt\n",
    "from utils import to_prob_dist"
   ],
   "metadata": {
    "collapsed": false,
    "pycharm": {
     "name": "#%%\n"
    }
   }
  },
  {
   "cell_type": "code",
   "execution_count": 19,
   "outputs": [
    {
     "data": {
      "text/plain": "{'kitchen': 42, 'living_room': 34, 'bathroom': 12, 'bedroom': 7, 'office': 2}"
     },
     "execution_count": 19,
     "metadata": {},
     "output_type": "execute_result"
    }
   ],
   "source": [
    "test = pd.read_csv('../dataset/spatial/test.csv', index_col=0)\n",
    "\n",
    "{s: int(p * 100) for s, p in to_prob_dist(\n",
    "    test['scene'].value_counts().to_dict()).items()}"
   ],
   "metadata": {
    "collapsed": false,
    "pycharm": {
     "name": "#%%\n"
    }
   }
  },
  {
   "cell_type": "code",
   "execution_count": 22,
   "outputs": [
    {
     "data": {
      "text/plain": "((4599, 8), (4599, 3))"
     },
     "execution_count": 22,
     "metadata": {},
     "output_type": "execute_result"
    }
   ],
   "source": [
    "MODEL = 'vilt'\n",
    "pred = pd.read_csv(f'../temp/{MODEL}_spt.csv')\n",
    "\n",
    "test.shape, pred.shape"
   ],
   "metadata": {
    "collapsed": false,
    "pycharm": {
     "name": "#%%\n"
    }
   }
  },
  {
   "cell_type": "code",
   "execution_count": 23,
   "outputs": [
    {
     "data": {
      "text/plain": "{'bathroom': 0.5324232081911263,\n 'bedroom': 0.6308139534883721,\n 'kitchen': 0.6749492900608519,\n 'living_room': 0.7129337539432177,\n 'office': 0.5089285714285714}"
     },
     "execution_count": 23,
     "metadata": {},
     "output_type": "execute_result"
    }
   ],
   "source": [
    "df = pd.DataFrame()\n",
    "\n",
    "pred['pred'] = pred['pred'].apply(lambda x: str(x))\n",
    "df['correct'] = pred.apply(lambda x: x['pred'] in x['true'], axis=1)\n",
    "df['scene'] = test['scene']\n",
    "\n",
    "df.groupby(['scene'])['correct'].mean().to_dict()"
   ],
   "metadata": {
    "collapsed": false,
    "pycharm": {
     "name": "#%%\n"
    }
   }
  },
  {
   "cell_type": "markdown",
   "source": [
    "<br>\n",
    "\n",
    "### Scene-wise"
   ],
   "metadata": {
    "collapsed": false,
    "pycharm": {
     "name": "#%% md\n"
    }
   }
  },
  {
   "cell_type": "code",
   "execution_count": 24,
   "outputs": [],
   "source": [
    "vilt = {'bathroom': 0.5324232081911263,\n",
    "        'bedroom': 0.6308139534883721,\n",
    "        'kitchen': 0.6749492900608519,\n",
    "        'living_room': 0.7129337539432177,\n",
    "        'office': 0.5089285714285714}\n",
    "\n",
    "bert = {'bathroom': 0.5716723549488054,\n",
    "        'bedroom': 0.6627906976744186,\n",
    "        'kitchen': 0.6678498985801217,\n",
    "        'living_room': 0.7205047318611988,\n",
    "        'office': 0.49107142857142855}\n",
    "\n",
    "capb = {'bathroom': 0.6126279863481229,\n",
    "        'bedroom': 0.7558139534883721,\n",
    "        'kitchen': 0.7003042596348884,\n",
    "        'living_room': 0.7318611987381703,\n",
    "        'office': 0.5}\n",
    "\n",
    "\n",
    "SCORE = {'vilt': 65.78, 'bert': 67.25, 'capb': 69.93}"
   ],
   "metadata": {
    "collapsed": false,
    "pycharm": {
     "name": "#%%\n"
    }
   }
  },
  {
   "cell_type": "code",
   "execution_count": 25,
   "outputs": [],
   "source": [
    "def _scale(arr, by=100):\n",
    "    return [_ * by for _ in arr]\n",
    "\n",
    "labels = list(bert)\n",
    "vilt = _scale(list(vilt.values()))\n",
    "bert = _scale(list(bert.values()))\n",
    "capb = _scale(list(capb.values()))"
   ],
   "metadata": {
    "collapsed": false,
    "pycharm": {
     "name": "#%%\n"
    }
   }
  },
  {
   "cell_type": "code",
   "execution_count": 32,
   "outputs": [
    {
     "data": {
      "text/plain": "<Figure size 864x576 with 1 Axes>",
      "image/png": "[encoded data removed]"
     },
     "metadata": {
      "needs_background": "light"
     },
     "output_type": "display_data"
    }
   ],
   "source": [
    "barWidth = 0.25\n",
    "fig = plt.subplots(figsize=(12, 8))\n",
    "\n",
    "br1 = list(range(len(bert)))\n",
    "br2 = [x + barWidth for x in br1]\n",
    "br3 = [x + barWidth for x in br2 ]\n",
    "\n",
    "plt.bar(br1, vilt, color='deepskyblue', width=barWidth, label='ViLT')\n",
    "plt.bar(br2, bert, color='gold', width=barWidth, label='BERT')\n",
    "plt.bar(br3, capb, color='lightgray', width=barWidth, label='CapBERT')\n",
    "\n",
    "plt.axhline(y=SCORE['vilt'], linestyle='--', color='dodgerblue')\n",
    "plt.axhline(y=SCORE['bert'], linestyle='--', color='orange')\n",
    "plt.axhline(y=SCORE['capb'], linestyle='--', color='gray')\n",
    "\n",
    "plt.xlabel('Scene', fontsize=12)\n",
    "plt.ylabel('R-Acc', fontsize=12)\n",
    "\n",
    "plt.xticks([r + barWidth for r in range(len(bert))], labels)\n",
    "plt.ylim([46, 76])\n",
    "\n",
    "plt.legend()\n",
    "# plt.show()\n",
    "plt.savefig('./spatial_scene_wise.pdf', bbox_inches='tight')"
   ],
   "metadata": {
    "collapsed": false,
    "pycharm": {
     "name": "#%%\n"
    }
   }
  },
  {
   "cell_type": "markdown",
   "source": [
    "<br>\n",
    "\n",
    "## Δy\n"
   ],
   "metadata": {
    "collapsed": false,
    "pycharm": {
     "name": "#%% md\n"
    }
   }
  }
 ],
 "metadata": {
  "kernelspec": {
   "display_name": "Python 3",
   "language": "python",
   "name": "python3"
  },
  "language_info": {
   "codemirror_mode": {
    "name": "ipython",
    "version": 2
   },
   "file_extension": ".py",
   "mimetype": "text/x-python",
   "name": "python",
   "nbconvert_exporter": "python",
   "pygments_lexer": "ipython2",
   "version": "2.7.6"
  }
 },
 "nbformat": 4,
 "nbformat_minor": 0
}