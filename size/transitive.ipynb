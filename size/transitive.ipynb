{
 "cells": [
  {
   "cell_type": "markdown",
   "metadata": {
    "collapsed": true,
    "pycharm": {
     "name": "#%% md\n"
    }
   },
   "source": [
    "## Transitive Size Relations\n",
    "\n",
    "**Goal**: Evaluation set comprising transitive (*indirect*) object co-occurrences.\n",
    "\n",
    "**Models**: *BERT, CapBERT, ViLT, FLAVA*"
   ]
  },
  {
   "cell_type": "code",
   "execution_count": 1,
   "outputs": [],
   "source": [
    "import numpy as np\n",
    "import pandas as pd\n",
    "from tqdm import tqdm\n",
    "from utils import read_json, sort_dict, save_csv"
   ],
   "metadata": {
    "collapsed": false,
    "pycharm": {
     "name": "#%%\n"
    }
   }
  },
  {
   "cell_type": "code",
   "execution_count": 2,
   "outputs": [],
   "source": [
    "df = pd.read_csv('../results/size.csv')\n",
    "jsn = read_json('../data/obj_size_k_5.json')"
   ],
   "metadata": {
    "collapsed": false,
    "pycharm": {
     "name": "#%%\n"
    }
   }
  },
  {
   "cell_type": "code",
   "execution_count": 3,
   "outputs": [],
   "source": [
    "df['freq'] = df['<'] + df['>']"
   ],
   "metadata": {
    "collapsed": false,
    "pycharm": {
     "name": "#%%\n"
    }
   }
  },
  {
   "cell_type": "code",
   "execution_count": 4,
   "outputs": [
    {
     "data": {
      "text/plain": "      o1     o2    >    < typical  freq\n0    guy  clock  303   60       >   363\n1  clock    guy   60  303       <   363",
      "text/html": "<div>\n<style scoped>\n    .dataframe tbody tr th:only-of-type {\n        vertical-align: middle;\n    }\n\n    .dataframe tbody tr th {\n        vertical-align: top;\n    }\n\n    .dataframe thead th {\n        text-align: right;\n    }\n</style>\n<table border=\"1\" class=\"dataframe\">\n  <thead>\n    <tr style=\"text-align: right;\">\n      <th></th>\n      <th>o1</th>\n      <th>o2</th>\n      <th>&gt;</th>\n      <th>&lt;</th>\n      <th>typical</th>\n      <th>freq</th>\n    </tr>\n  </thead>\n  <tbody>\n    <tr>\n      <th>0</th>\n      <td>guy</td>\n      <td>clock</td>\n      <td>303</td>\n      <td>60</td>\n      <td>&gt;</td>\n      <td>363</td>\n    </tr>\n    <tr>\n      <th>1</th>\n      <td>clock</td>\n      <td>guy</td>\n      <td>60</td>\n      <td>303</td>\n      <td>&lt;</td>\n      <td>363</td>\n    </tr>\n  </tbody>\n</table>\n</div>"
     },
     "execution_count": 4,
     "metadata": {},
     "output_type": "execute_result"
    }
   ],
   "source": [
    "df.head(2)"
   ],
   "metadata": {
    "collapsed": false,
    "pycharm": {
     "name": "#%%\n"
    }
   }
  },
  {
   "cell_type": "code",
   "execution_count": 5,
   "outputs": [
    {
     "data": {
      "text/plain": "{'name': 'clock', 'bbox': [421, 57, 82, 139], 'cluster': 0}"
     },
     "execution_count": 5,
     "metadata": {},
     "output_type": "execute_result"
    }
   ],
   "source": [
    "jsn[0]['regions'][0]\n"
   ],
   "metadata": {
    "collapsed": false,
    "pycharm": {
     "name": "#%%\n"
    }
   }
  },
  {
   "cell_type": "markdown",
   "source": [
    "<br>\n",
    "\n",
    "#### Statistics\n"
   ],
   "metadata": {
    "collapsed": false,
    "pycharm": {
     "name": "#%% md\n"
    }
   }
  },
  {
   "cell_type": "code",
   "execution_count": 6,
   "outputs": [
    {
     "data": {
      "text/plain": "count    43096.000000\nmean       579.939623\nstd       1641.455501\nmin        100.000000\n25%        139.000000\n50%        219.000000\n75%        452.000000\nmax      63248.000000\nName: freq, dtype: float64"
     },
     "execution_count": 6,
     "metadata": {},
     "output_type": "execute_result"
    }
   ],
   "source": [
    "df['freq'].describe()\n"
   ],
   "metadata": {
    "collapsed": false,
    "pycharm": {
     "name": "#%%\n"
    }
   }
  },
  {
   "cell_type": "code",
   "execution_count": 7,
   "outputs": [
    {
     "data": {
      "text/plain": ">    21548\n<    21548\nName: typical, dtype: int64"
     },
     "execution_count": 7,
     "metadata": {},
     "output_type": "execute_result"
    }
   ],
   "source": [
    "df['typical'].value_counts()\n"
   ],
   "metadata": {
    "collapsed": false,
    "pycharm": {
     "name": "#%%\n"
    }
   }
  },
  {
   "cell_type": "code",
   "execution_count": 8,
   "outputs": [
    {
     "data": {
      "text/plain": "0"
     },
     "execution_count": 8,
     "metadata": {},
     "output_type": "execute_result"
    }
   ],
   "source": [
    "# Verify: threshold\n",
    "sum(df.apply(lambda x: x['freq'] < 50, axis=1))\n"
   ],
   "metadata": {
    "collapsed": false,
    "pycharm": {
     "name": "#%%\n"
    }
   }
  },
  {
   "cell_type": "markdown",
   "source": [
    "<br>\n",
    "\n",
    "### Slice \"<\" relations\n",
    "\n",
    "Common objects"
   ],
   "metadata": {
    "collapsed": false,
    "pycharm": {
     "name": "#%% md\n"
    }
   }
  },
  {
   "cell_type": "code",
   "execution_count": 9,
   "outputs": [],
   "source": [
    "df = df[df['typical'] == '<']\n",
    "\n",
    "df = df.drop(columns=['<', '>'])"
   ],
   "metadata": {
    "collapsed": false,
    "pycharm": {
     "name": "#%%\n"
    }
   }
  },
  {
   "cell_type": "code",
   "execution_count": 10,
   "outputs": [
    {
     "data": {
      "text/plain": "(1321, 1093)"
     },
     "execution_count": 10,
     "metadata": {},
     "output_type": "execute_result"
    }
   ],
   "source": [
    "df['o1'].nunique(), df['o2'].nunique()"
   ],
   "metadata": {
    "collapsed": false,
    "pycharm": {
     "name": "#%%\n"
    }
   }
  },
  {
   "cell_type": "code",
   "execution_count": 11,
   "outputs": [
    {
     "data": {
      "text/plain": "'# objects: 1682  || # rels: 21548'"
     },
     "execution_count": 11,
     "metadata": {},
     "output_type": "execute_result"
    }
   ],
   "source": [
    "objects = set(df['o1']) | set((df['o2']))\n",
    "\n",
    "f'# objects: {len(objects)}  || # rels: {len(df)}'"
   ],
   "metadata": {
    "collapsed": false,
    "pycharm": {
     "name": "#%%\n"
    }
   }
  },
  {
   "cell_type": "code",
   "execution_count": 12,
   "outputs": [],
   "source": [
    "df = df.sort_values(by=['freq'], ascending=False)\n"
   ],
   "metadata": {
    "collapsed": false,
    "pycharm": {
     "name": "#%%\n"
    }
   }
  },
  {
   "cell_type": "code",
   "execution_count": 13,
   "outputs": [
    {
     "data": {
      "text/plain": "           o1        o2 typical   freq\n621    window  building       <  63248\n518    window      tree       <  50302\n486    window       car       <  46952\n7983   letter      sign       <  42145\n57        car      tree       <  42003\n13579    spot   giraffe       <  41561\n3808     leaf      tree       <  41121\n479      sign      tree       <  40891\n2679   window     train       <  34126\n2948   window       bus       <  33721",
      "text/html": "<div>\n<style scoped>\n    .dataframe tbody tr th:only-of-type {\n        vertical-align: middle;\n    }\n\n    .dataframe tbody tr th {\n        vertical-align: top;\n    }\n\n    .dataframe thead th {\n        text-align: right;\n    }\n</style>\n<table border=\"1\" class=\"dataframe\">\n  <thead>\n    <tr style=\"text-align: right;\">\n      <th></th>\n      <th>o1</th>\n      <th>o2</th>\n      <th>typical</th>\n      <th>freq</th>\n    </tr>\n  </thead>\n  <tbody>\n    <tr>\n      <th>621</th>\n      <td>window</td>\n      <td>building</td>\n      <td>&lt;</td>\n      <td>63248</td>\n    </tr>\n    <tr>\n      <th>518</th>\n      <td>window</td>\n      <td>tree</td>\n      <td>&lt;</td>\n      <td>50302</td>\n    </tr>\n    <tr>\n      <th>486</th>\n      <td>window</td>\n      <td>car</td>\n      <td>&lt;</td>\n      <td>46952</td>\n    </tr>\n    <tr>\n      <th>7983</th>\n      <td>letter</td>\n      <td>sign</td>\n      <td>&lt;</td>\n      <td>42145</td>\n    </tr>\n    <tr>\n      <th>57</th>\n      <td>car</td>\n      <td>tree</td>\n      <td>&lt;</td>\n      <td>42003</td>\n    </tr>\n    <tr>\n      <th>13579</th>\n      <td>spot</td>\n      <td>giraffe</td>\n      <td>&lt;</td>\n      <td>41561</td>\n    </tr>\n    <tr>\n      <th>3808</th>\n      <td>leaf</td>\n      <td>tree</td>\n      <td>&lt;</td>\n      <td>41121</td>\n    </tr>\n    <tr>\n      <th>479</th>\n      <td>sign</td>\n      <td>tree</td>\n      <td>&lt;</td>\n      <td>40891</td>\n    </tr>\n    <tr>\n      <th>2679</th>\n      <td>window</td>\n      <td>train</td>\n      <td>&lt;</td>\n      <td>34126</td>\n    </tr>\n    <tr>\n      <th>2948</th>\n      <td>window</td>\n      <td>bus</td>\n      <td>&lt;</td>\n      <td>33721</td>\n    </tr>\n  </tbody>\n</table>\n</div>"
     },
     "execution_count": 13,
     "metadata": {},
     "output_type": "execute_result"
    }
   ],
   "source": [
    "df.head(10)"
   ],
   "metadata": {
    "collapsed": false,
    "pycharm": {
     "name": "#%%\n"
    }
   }
  },
  {
   "cell_type": "code",
   "source": [
    "# Frequent Small\n",
    "obj2freq = df.groupby(by='o1')['freq'].sum().to_dict()\n",
    "obj2freq = sort_dict(obj2freq, by='v', reverse=True)\n",
    "list(obj2freq.items())[:20]"
   ],
   "metadata": {
    "collapsed": false,
    "pycharm": {
     "name": "#%%\n"
    }
   },
   "execution_count": null,
   "outputs": []
  },
  {
   "cell_type": "code",
   "source": [
    "# Frequent Large\n",
    "obj2freq = df.groupby(by='o2')['freq'].sum().to_dict()\n",
    "obj2freq = sort_dict(obj2freq, by='v', reverse=True)\n",
    "list(obj2freq.items())[:20]\n"
   ],
   "metadata": {
    "collapsed": false,
    "pycharm": {
     "name": "#%%\n"
    }
   },
   "execution_count": null,
   "outputs": []
  },
  {
   "cell_type": "markdown",
   "source": [
    "<br>\n",
    "\n",
    "### Derive Transitive Co-occurrences\n",
    "\n",
    "(a,b) --> (b,b') --> (a,b')"
   ],
   "metadata": {
    "collapsed": false,
    "pycharm": {
     "name": "#%% md\n"
    }
   }
  },
  {
   "cell_type": "code",
   "execution_count": 14,
   "outputs": [],
   "source": [
    "data = df.to_dict('records')\n",
    "pairs = {(_['o1'], _['o2']) for _ in data}"
   ],
   "metadata": {
    "collapsed": false,
    "pycharm": {
     "name": "#%%\n"
    }
   }
  },
  {
   "cell_type": "code",
   "execution_count": 15,
   "outputs": [
    {
     "name": "stderr",
     "output_type": "stream",
     "text": [
      "100%|██████████| 21548/21548 [00:30<00:00, 704.38it/s]\n"
     ]
    }
   ],
   "source": [
    "eval_set = []\n",
    "\n",
    "for d in tqdm(data):\n",
    "    # Get all transitive samples\n",
    "    new = [_ for _ in data if d['o2'] == _['o1']]\n",
    "    for n in new:\n",
    "        if (d['o1'], n['o2']) not in pairs:\n",
    "            d_new = {'o1': d['o1'], 'o2': n['o2'],\n",
    "                     '>': 100, '<': 100 , 'typical': '<'}\n",
    "            eval_set += [d_new]\n",
    "\n",
    "save_csv(eval_set, path='../results/size_trans.csv', index=False)"
   ],
   "metadata": {
    "collapsed": false,
    "pycharm": {
     "name": "#%%\n"
    }
   }
  },
  {
   "cell_type": "code",
   "execution_count": 37,
   "outputs": [],
   "source": [
    "eval_set = list(np.random.choice(eval_set, size=20000, replace=False))\n",
    "\n",
    "save_csv(eval_set, path='../dataset/size_trans/test.csv', index=False)"
   ],
   "metadata": {
    "collapsed": false,
    "pycharm": {
     "name": "#%%\n"
    }
   }
  },
  {
   "cell_type": "code",
   "execution_count": null,
   "outputs": [],
   "source": [],
   "metadata": {
    "collapsed": false,
    "pycharm": {
     "name": "#%%\n"
    }
   }
  },
  {
   "cell_type": "code",
   "execution_count": null,
   "outputs": [],
   "source": [
    "# Co-occurrence (cluster-membership) variance\n",
    "# obj2cluster = {}\n",
    "# for d in tqdm(jsn):\n",
    "#     for r in d['regions']:\n",
    "#         o = r['name']\n",
    "#         c = r['cluster']\n",
    "#         if o not in obj2cluster:\n",
    "#             obj2cluster[o] = []\n",
    "#\n",
    "#         obj2cluster[o] += [c]\n",
    "#\n",
    "# def _cluster_var(_o: str) -> float:\n",
    "#     var = np.std(obj2cluster[_o])**2\n",
    "#     var = var.round(2)\n",
    "#     return float(var)\n",
    "#\n",
    "# obj2var = {o: _cluster_var(o) for o in tqdm(objects)}\n",
    "# obj2var = sort_dict(obj2var, by='v', reverse=True)\n",
    "# list(obj2var.items())[:20], list(obj2var.items())[-20:]"
   ],
   "metadata": {
    "collapsed": false,
    "pycharm": {
     "name": "#%%\n"
    }
   }
  }
 ],
 "metadata": {
  "kernelspec": {
   "display_name": "Python 3",
   "language": "python",
   "name": "python3"
  },
  "language_info": {
   "codemirror_mode": {
    "name": "ipython",
    "version": 2
   },
   "file_extension": ".py",
   "mimetype": "text/x-python",
   "name": "python",
   "nbconvert_exporter": "python",
   "pygments_lexer": "ipython2",
   "version": "2.7.6"
  }
 },
 "nbformat": 4,
 "nbformat_minor": 0
}