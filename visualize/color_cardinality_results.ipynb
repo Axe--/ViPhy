{
 "cells": [
  {
   "cell_type": "markdown",
   "metadata": {
    "collapsed": true,
    "pycharm": {
     "name": "#%% md\n"
    }
   },
   "source": [
    "## Color: Cardinality vs Performance\n",
    "\n",
    "- **Models**: BERT, CLIP, FLAVA  (+CoDa)\n",
    "- **Metrics**: Rel-Accuracy & Confidence"
   ]
  },
  {
   "cell_type": "code",
   "execution_count": 2,
   "outputs": [],
   "source": [
    "import pandas as pd\n"
   ],
   "metadata": {
    "collapsed": false,
    "pycharm": {
     "name": "#%%\n"
    }
   }
  },
  {
   "cell_type": "code",
   "execution_count": 30,
   "outputs": [
    {
     "data": {
      "text/plain": "         true  pred                                               prob\n0    3,7,8,10     3  0.05585075542330742,0.024501027539372444,0.025...\n1      0,1,10    10  0.0749174952507019,0.021220631897449493,0.0672...\n2    0,3,8,10     8  0.05677624046802521,0.030275460332632065,0.048...\n3         3,4     4  0.03291339799761772,0.009773140773177147,0.031...\n4  0,2,3,8,10     8  0.12242279946804047,0.04770265519618988,0.0767...",
      "text/html": "<div>\n<style scoped>\n    .dataframe tbody tr th:only-of-type {\n        vertical-align: middle;\n    }\n\n    .dataframe tbody tr th {\n        vertical-align: top;\n    }\n\n    .dataframe thead th {\n        text-align: right;\n    }\n</style>\n<table border=\"1\" class=\"dataframe\">\n  <thead>\n    <tr style=\"text-align: right;\">\n      <th></th>\n      <th>true</th>\n      <th>pred</th>\n      <th>prob</th>\n    </tr>\n  </thead>\n  <tbody>\n    <tr>\n      <th>0</th>\n      <td>3,7,8,10</td>\n      <td>3</td>\n      <td>0.05585075542330742,0.024501027539372444,0.025...</td>\n    </tr>\n    <tr>\n      <th>1</th>\n      <td>0,1,10</td>\n      <td>10</td>\n      <td>0.0749174952507019,0.021220631897449493,0.0672...</td>\n    </tr>\n    <tr>\n      <th>2</th>\n      <td>0,3,8,10</td>\n      <td>8</td>\n      <td>0.05677624046802521,0.030275460332632065,0.048...</td>\n    </tr>\n    <tr>\n      <th>3</th>\n      <td>3,4</td>\n      <td>4</td>\n      <td>0.03291339799761772,0.009773140773177147,0.031...</td>\n    </tr>\n    <tr>\n      <th>4</th>\n      <td>0,2,3,8,10</td>\n      <td>8</td>\n      <td>0.12242279946804047,0.04770265519618988,0.0767...</td>\n    </tr>\n  </tbody>\n</table>\n</div>"
     },
     "execution_count": 30,
     "metadata": {},
     "output_type": "execute_result"
    }
   ],
   "source": [
    "df = pd.read_csv('../temp/flava_col.csv')\n",
    "\n",
    "df.head()"
   ],
   "metadata": {
    "collapsed": false,
    "pycharm": {
     "name": "#%%\n"
    }
   }
  },
  {
   "cell_type": "code",
   "execution_count": 31,
   "outputs": [
    {
     "data": {
      "text/plain": "true    object\npred    object\nprob    object\ndtype: object"
     },
     "execution_count": 31,
     "metadata": {},
     "output_type": "execute_result"
    }
   ],
   "source": [
    "# To String\n",
    "df['pred'] = df['pred'].apply(lambda p: str(p))\n",
    "\n",
    "\n",
    "df.dtypes"
   ],
   "metadata": {
    "collapsed": false,
    "pycharm": {
     "name": "#%%\n"
    }
   }
  },
  {
   "cell_type": "markdown",
   "source": [
    "<br>\n",
    "\n",
    "Rel-Accuracy"
   ],
   "metadata": {
    "collapsed": false,
    "pycharm": {
     "name": "#%% md\n"
    }
   }
  },
  {
   "cell_type": "code",
   "execution_count": 32,
   "outputs": [
    {
     "data": {
      "text/plain": "'R-Acc: 76.31'"
     },
     "execution_count": 32,
     "metadata": {},
     "output_type": "execute_result"
    }
   ],
   "source": [
    "df['correct'] = df.apply(lambda x: x['pred'] in x['true'].split(','), axis=1)\n",
    "\n",
    "'R-Acc: {:.2f}'.format(df['correct'].sum() / len(df) * 100)"
   ],
   "metadata": {
    "collapsed": false,
    "pycharm": {
     "name": "#%%\n"
    }
   }
  },
  {
   "cell_type": "markdown",
   "source": [
    "<br>\n",
    "\n",
    "Confidence"
   ],
   "metadata": {
    "collapsed": false,
    "pycharm": {
     "name": "#%% md\n"
    }
   }
  },
  {
   "cell_type": "code",
   "execution_count": 33,
   "outputs": [],
   "source": [
    "from torch import tensor as T\n",
    "\n",
    "\n",
    "def _confidence(x):\n",
    "    true = x['true'].split(',')\n",
    "    true = [int(_) for _ in true]\n",
    "\n",
    "    prob = x['prob'].split(',')\n",
    "    prob = T([float(_) for _ in prob])\n",
    "\n",
    "    return prob[true].sum().item()\n",
    "\n",
    "\n",
    "df['conf'] = df.apply(lambda x: _confidence(x), axis=1)"
   ],
   "metadata": {
    "collapsed": false,
    "pycharm": {
     "name": "#%%\n"
    }
   }
  },
  {
   "cell_type": "markdown",
   "source": [
    "<br>\n",
    "\n",
    "#### Aggregate Accuracy & Confidence -- Group by Cardinality"
   ],
   "metadata": {
    "collapsed": false,
    "pycharm": {
     "name": "#%% md\n"
    }
   }
  },
  {
   "cell_type": "code",
   "execution_count": 34,
   "outputs": [
    {
     "data": {
      "text/plain": "         true pred                                               prob  \\\n0    3,7,8,10    3  0.05585075542330742,0.024501027539372444,0.025...   \n1      0,1,10   10  0.0749174952507019,0.021220631897449493,0.0672...   \n2    0,3,8,10    8  0.05677624046802521,0.030275460332632065,0.048...   \n3         3,4    4  0.03291339799761772,0.009773140773177147,0.031...   \n4  0,2,3,8,10    8  0.12242279946804047,0.04770265519618988,0.0767...   \n\n   correct      conf  cardinality  \n0     True  0.766668            4  \n1     True  0.356880            3  \n2     True  0.653235            4  \n3     True  0.584805            2  \n4     True  0.731621            5  ",
      "text/html": "<div>\n<style scoped>\n    .dataframe tbody tr th:only-of-type {\n        vertical-align: middle;\n    }\n\n    .dataframe tbody tr th {\n        vertical-align: top;\n    }\n\n    .dataframe thead th {\n        text-align: right;\n    }\n</style>\n<table border=\"1\" class=\"dataframe\">\n  <thead>\n    <tr style=\"text-align: right;\">\n      <th></th>\n      <th>true</th>\n      <th>pred</th>\n      <th>prob</th>\n      <th>correct</th>\n      <th>conf</th>\n      <th>cardinality</th>\n    </tr>\n  </thead>\n  <tbody>\n    <tr>\n      <th>0</th>\n      <td>3,7,8,10</td>\n      <td>3</td>\n      <td>0.05585075542330742,0.024501027539372444,0.025...</td>\n      <td>True</td>\n      <td>0.766668</td>\n      <td>4</td>\n    </tr>\n    <tr>\n      <th>1</th>\n      <td>0,1,10</td>\n      <td>10</td>\n      <td>0.0749174952507019,0.021220631897449493,0.0672...</td>\n      <td>True</td>\n      <td>0.356880</td>\n      <td>3</td>\n    </tr>\n    <tr>\n      <th>2</th>\n      <td>0,3,8,10</td>\n      <td>8</td>\n      <td>0.05677624046802521,0.030275460332632065,0.048...</td>\n      <td>True</td>\n      <td>0.653235</td>\n      <td>4</td>\n    </tr>\n    <tr>\n      <th>3</th>\n      <td>3,4</td>\n      <td>4</td>\n      <td>0.03291339799761772,0.009773140773177147,0.031...</td>\n      <td>True</td>\n      <td>0.584805</td>\n      <td>2</td>\n    </tr>\n    <tr>\n      <th>4</th>\n      <td>0,2,3,8,10</td>\n      <td>8</td>\n      <td>0.12242279946804047,0.04770265519618988,0.0767...</td>\n      <td>True</td>\n      <td>0.731621</td>\n      <td>5</td>\n    </tr>\n  </tbody>\n</table>\n</div>"
     },
     "execution_count": 34,
     "metadata": {},
     "output_type": "execute_result"
    }
   ],
   "source": [
    "df['cardinality'] = df['true'].apply(lambda x: len(x.split(',')))\n",
    "\n",
    "df.head()"
   ],
   "metadata": {
    "collapsed": false,
    "pycharm": {
     "name": "#%%\n"
    }
   }
  },
  {
   "cell_type": "code",
   "execution_count": 35,
   "outputs": [
    {
     "data": {
      "text/plain": "cardinality\n1    0.334004\n2    0.484917\n3    0.603452\n4    0.672689\n5    0.718968\n6    0.805971\n7    0.776097\nName: conf, dtype: float64"
     },
     "execution_count": 35,
     "metadata": {},
     "output_type": "execute_result"
    }
   ],
   "source": [
    "df.groupby('cardinality')['conf'].mean()"
   ],
   "metadata": {
    "collapsed": false,
    "pycharm": {
     "name": "#%%\n"
    }
   }
  },
  {
   "cell_type": "code",
   "execution_count": 36,
   "outputs": [
    {
     "data": {
      "text/plain": "cardinality\n1    0.636098\n2    0.779317\n3    0.859143\n4    0.870430\n5    0.888889\n6    0.959459\n7    0.800000\nName: correct, dtype: float64"
     },
     "execution_count": 36,
     "metadata": {},
     "output_type": "execute_result"
    }
   ],
   "source": [
    "df.groupby('cardinality')['correct'].mean()\n"
   ],
   "metadata": {
    "collapsed": false,
    "pycharm": {
     "name": "#%%\n"
    }
   }
  },
  {
   "cell_type": "markdown",
   "source": [
    "<br>\n",
    "\n",
    "### CoDa\n",
    "\n",
    "Report Performance (cardinality)"
   ],
   "metadata": {
    "collapsed": false,
    "pycharm": {
     "name": "#%% md\n"
    }
   }
  },
  {
   "cell_type": "code",
   "execution_count": 9,
   "outputs": [],
   "source": [
    "from collections import Counter\n",
    "from utils import read_json\n",
    "from misc.prior_ds import load_coda"
   ],
   "metadata": {
    "collapsed": false,
    "pycharm": {
     "name": "#%%\n"
    }
   }
  },
  {
   "cell_type": "code",
   "execution_count": null,
   "outputs": [],
   "source": [
    "viphy = read_json('../results/colors.json')\n",
    "coda_typical, coda_prob = load_coda()"
   ],
   "metadata": {
    "collapsed": false,
    "pycharm": {
     "name": "#%%\n"
    }
   }
  },
  {
   "cell_type": "code",
   "execution_count": 4,
   "outputs": [],
   "source": [
    "# Common Objects\n",
    "viphy_objects = set(viphy.keys())\n",
    "\n",
    "coda_prob = {o: v for o, v in coda_prob.items() if o in viphy_objects}\n",
    "coda_typical = {o: v for o, v in coda_typical.items() if o in viphy_objects}"
   ],
   "metadata": {
    "collapsed": false,
    "pycharm": {
     "name": "#%%\n"
    }
   }
  },
  {
   "cell_type": "code",
   "execution_count": 12,
   "outputs": [
    {
     "data": {
      "text/plain": "[(1, 176), (2, 89), (3, 61), (4, 87), (5, 15), (6, 4)]"
     },
     "execution_count": 12,
     "metadata": {},
     "output_type": "execute_result"
    }
   ],
   "source": [
    "lens = [len(c) for o, c in coda_typical.items()]\n",
    "\n",
    "cardinality_freq = dict(Counter(lens))\n",
    "sorted(cardinality_freq.items())"
   ],
   "metadata": {
    "collapsed": false,
    "pycharm": {
     "name": "#%%\n"
    }
   }
  },
  {
   "cell_type": "code",
   "execution_count": 18,
   "outputs": [
    {
     "data": {
      "text/plain": "          obj                                               pred  \\\n0       ruler  {'brown': 0.5052238702774048, 'yellow': 0.4947...   \n1  toothbrush  {'blue': 0.3552764654159546, 'green': 0.183714...   \n2       house  {'brown': 0.43336084485054016, 'white': 0.5666...   \n3        cake  {'brown': 0.3400912582874298, 'pink': 0.277795...   \n4   parachute  {'blue': 0.1406806856393814, 'green': 0.159843...   \n\n                                        true  cardinality  \n0                      [yellow, white, gray]            3  \n1                              [blue, white]            2  \n2                             [brown, white]            2  \n3                             [brown, white]            2  \n4  [red, orange, yellow, blue, white, black]            6  ",
      "text/html": "<div>\n<style scoped>\n    .dataframe tbody tr th:only-of-type {\n        vertical-align: middle;\n    }\n\n    .dataframe tbody tr th {\n        vertical-align: top;\n    }\n\n    .dataframe thead th {\n        text-align: right;\n    }\n</style>\n<table border=\"1\" class=\"dataframe\">\n  <thead>\n    <tr style=\"text-align: right;\">\n      <th></th>\n      <th>obj</th>\n      <th>pred</th>\n      <th>true</th>\n      <th>cardinality</th>\n    </tr>\n  </thead>\n  <tbody>\n    <tr>\n      <th>0</th>\n      <td>ruler</td>\n      <td>{'brown': 0.5052238702774048, 'yellow': 0.4947...</td>\n      <td>[yellow, white, gray]</td>\n      <td>3</td>\n    </tr>\n    <tr>\n      <th>1</th>\n      <td>toothbrush</td>\n      <td>{'blue': 0.3552764654159546, 'green': 0.183714...</td>\n      <td>[blue, white]</td>\n      <td>2</td>\n    </tr>\n    <tr>\n      <th>2</th>\n      <td>house</td>\n      <td>{'brown': 0.43336084485054016, 'white': 0.5666...</td>\n      <td>[brown, white]</td>\n      <td>2</td>\n    </tr>\n    <tr>\n      <th>3</th>\n      <td>cake</td>\n      <td>{'brown': 0.3400912582874298, 'pink': 0.277795...</td>\n      <td>[brown, white]</td>\n      <td>2</td>\n    </tr>\n    <tr>\n      <th>4</th>\n      <td>parachute</td>\n      <td>{'blue': 0.1406806856393814, 'green': 0.159843...</td>\n      <td>[red, orange, yellow, blue, white, black]</td>\n      <td>6</td>\n    </tr>\n  </tbody>\n</table>\n</div>"
     },
     "execution_count": 18,
     "metadata": {},
     "output_type": "execute_result"
    }
   ],
   "source": [
    "coda_data = [{'obj': o, 'pred': c, 'true': list(viphy[o]), 'cardinality': len(viphy[o])}\n",
    "             for o, c in coda_typical.items()]\n",
    "\n",
    "df_coda = pd.DataFrame.from_dict(coda_data)\n",
    "\n",
    "df_coda.head()"
   ],
   "metadata": {
    "collapsed": false,
    "pycharm": {
     "name": "#%%\n"
    }
   }
  },
  {
   "cell_type": "code",
   "execution_count": 30,
   "outputs": [
    {
     "data": {
      "text/plain": "(0.9745370370370371, 0.7865998609232958)"
     },
     "execution_count": 30,
     "metadata": {},
     "output_type": "execute_result"
    }
   ],
   "source": [
    "df_coda['conf'] = df_coda.apply(lambda x: sum(p for o, p in x['pred'].items() if o in x['true']), axis=1)\n",
    "\n",
    "df_coda['correct'] = df_coda.apply(lambda x: 1 if set(x['pred']) & set(x['true']) else 0, axis=1)\n",
    "\n",
    "df_coda['correct'].mean(), df_coda['conf'].mean()"
   ],
   "metadata": {
    "collapsed": false,
    "pycharm": {
     "name": "#%%\n"
    }
   }
  },
  {
   "cell_type": "code",
   "execution_count": 31,
   "outputs": [
    {
     "data": {
      "text/plain": "          obj                                               pred  \\\n0       ruler  {'brown': 0.5052238702774048, 'yellow': 0.4947...   \n1  toothbrush  {'blue': 0.3552764654159546, 'green': 0.183714...   \n2       house  {'brown': 0.43336084485054016, 'white': 0.5666...   \n3        cake  {'brown': 0.3400912582874298, 'pink': 0.277795...   \n4   parachute  {'blue': 0.1406806856393814, 'green': 0.159843...   \n5       glove  {'black': 0.6481090784072876, 'white': 0.35189...   \n6        fish  {'gray': 0.4017074704170227, 'green': 0.330038...   \n7   dragonfly  {'blue': 0.21870826184749603, 'brown': 0.15456...   \n8    umbrella                                     {'black': 1.0}   \n9   billboard  {'blue': 0.41985902190208435, 'red': 0.3315967...   \n\n                                        true  cardinality      conf  correct  \n0                      [yellow, white, gray]            3  0.494776        1  \n1                              [blue, white]            2  0.641483        1  \n2                             [brown, white]            2  1.000000        1  \n3                             [brown, white]            2  0.722204        1  \n4  [red, orange, yellow, blue, white, black]            6  0.840156        1  \n5                      [brown, white, black]            3  1.000000        1  \n6         [orange, blue, white, gray, black]            5  0.401707        1  \n7                     [orange, brown, black]            3  0.154566        1  \n8                  [red, blue, white, black]            4  1.000000        1  \n9                  [red, blue, white, black]            4  1.000000        1  ",
      "text/html": "<div>\n<style scoped>\n    .dataframe tbody tr th:only-of-type {\n        vertical-align: middle;\n    }\n\n    .dataframe tbody tr th {\n        vertical-align: top;\n    }\n\n    .dataframe thead th {\n        text-align: right;\n    }\n</style>\n<table border=\"1\" class=\"dataframe\">\n  <thead>\n    <tr style=\"text-align: right;\">\n      <th></th>\n      <th>obj</th>\n      <th>pred</th>\n      <th>true</th>\n      <th>cardinality</th>\n      <th>conf</th>\n      <th>correct</th>\n    </tr>\n  </thead>\n  <tbody>\n    <tr>\n      <th>0</th>\n      <td>ruler</td>\n      <td>{'brown': 0.5052238702774048, 'yellow': 0.4947...</td>\n      <td>[yellow, white, gray]</td>\n      <td>3</td>\n      <td>0.494776</td>\n      <td>1</td>\n    </tr>\n    <tr>\n      <th>1</th>\n      <td>toothbrush</td>\n      <td>{'blue': 0.3552764654159546, 'green': 0.183714...</td>\n      <td>[blue, white]</td>\n      <td>2</td>\n      <td>0.641483</td>\n      <td>1</td>\n    </tr>\n    <tr>\n      <th>2</th>\n      <td>house</td>\n      <td>{'brown': 0.43336084485054016, 'white': 0.5666...</td>\n      <td>[brown, white]</td>\n      <td>2</td>\n      <td>1.000000</td>\n      <td>1</td>\n    </tr>\n    <tr>\n      <th>3</th>\n      <td>cake</td>\n      <td>{'brown': 0.3400912582874298, 'pink': 0.277795...</td>\n      <td>[brown, white]</td>\n      <td>2</td>\n      <td>0.722204</td>\n      <td>1</td>\n    </tr>\n    <tr>\n      <th>4</th>\n      <td>parachute</td>\n      <td>{'blue': 0.1406806856393814, 'green': 0.159843...</td>\n      <td>[red, orange, yellow, blue, white, black]</td>\n      <td>6</td>\n      <td>0.840156</td>\n      <td>1</td>\n    </tr>\n    <tr>\n      <th>5</th>\n      <td>glove</td>\n      <td>{'black': 0.6481090784072876, 'white': 0.35189...</td>\n      <td>[brown, white, black]</td>\n      <td>3</td>\n      <td>1.000000</td>\n      <td>1</td>\n    </tr>\n    <tr>\n      <th>6</th>\n      <td>fish</td>\n      <td>{'gray': 0.4017074704170227, 'green': 0.330038...</td>\n      <td>[orange, blue, white, gray, black]</td>\n      <td>5</td>\n      <td>0.401707</td>\n      <td>1</td>\n    </tr>\n    <tr>\n      <th>7</th>\n      <td>dragonfly</td>\n      <td>{'blue': 0.21870826184749603, 'brown': 0.15456...</td>\n      <td>[orange, brown, black]</td>\n      <td>3</td>\n      <td>0.154566</td>\n      <td>1</td>\n    </tr>\n    <tr>\n      <th>8</th>\n      <td>umbrella</td>\n      <td>{'black': 1.0}</td>\n      <td>[red, blue, white, black]</td>\n      <td>4</td>\n      <td>1.000000</td>\n      <td>1</td>\n    </tr>\n    <tr>\n      <th>9</th>\n      <td>billboard</td>\n      <td>{'blue': 0.41985902190208435, 'red': 0.3315967...</td>\n      <td>[red, blue, white, black]</td>\n      <td>4</td>\n      <td>1.000000</td>\n      <td>1</td>\n    </tr>\n  </tbody>\n</table>\n</div>"
     },
     "execution_count": 31,
     "metadata": {},
     "output_type": "execute_result"
    }
   ],
   "source": [
    "df_coda.head(10)"
   ],
   "metadata": {
    "collapsed": false,
    "pycharm": {
     "name": "#%%\n"
    }
   }
  },
  {
   "cell_type": "code",
   "execution_count": 32,
   "outputs": [
    {
     "data": {
      "text/plain": "cardinality\n1    0.756900\n2    0.770236\n3    0.837567\n4    0.835737\n5    0.830399\n6    0.928076\nName: conf, dtype: float64"
     },
     "execution_count": 32,
     "metadata": {},
     "output_type": "execute_result"
    }
   ],
   "source": [
    "df_coda.groupby('cardinality')['conf'].mean()"
   ],
   "metadata": {
    "collapsed": false,
    "pycharm": {
     "name": "#%%\n"
    }
   }
  },
  {
   "cell_type": "code",
   "execution_count": 33,
   "outputs": [
    {
     "data": {
      "text/plain": "cardinality\n1    0.964646\n2    0.967391\n3    1.000000\n4    0.986111\n5    1.000000\n6    1.000000\nName: correct, dtype: float64"
     },
     "execution_count": 33,
     "metadata": {},
     "output_type": "execute_result"
    }
   ],
   "source": [
    "df_coda.groupby('cardinality')['correct'].mean()"
   ],
   "metadata": {
    "collapsed": false,
    "pycharm": {
     "name": "#%%\n"
    }
   }
  },
  {
   "cell_type": "markdown",
   "source": [
    "\n",
    "<br><br>\n",
    "\n",
    "## Plot Curves -- Metric(s) vs #Labels"
   ],
   "metadata": {
    "collapsed": false,
    "pycharm": {
     "name": "#%% md\n"
    }
   }
  },
  {
   "cell_type": "code",
   "execution_count": 1,
   "outputs": [],
   "source": [
    "import matplotlib.pyplot as plt"
   ],
   "metadata": {
    "collapsed": false,
    "pycharm": {
     "name": "#%%\n"
    }
   }
  },
  {
   "cell_type": "code",
   "execution_count": 2,
   "outputs": [],
   "source": [
    "bert_conf = [0.254481, 0.429102, 0.565140, 0.646456, 0.693855, 0.769546, 0.772170]\n",
    "bert_acc = [0.485981, 0.670822, 0.814523, 0.840860, 0.860697, 0.891892, 0.900233]\n",
    "\n",
    "flava_conf = [0.334004, 0.484917, 0.603452, 0.672689, 0.718968, 0.805971, 0.776097]\n",
    "flava_acc = [0.636098, 0.779317, 0.859143, 0.870430, 0.888889, 0.959459, 0.913001]\n",
    "\n",
    "clip_conf = [0.479512, 0.586562, 0.679729, 0.740048, 0.769165, 0.834552, 0.797665]\n",
    "clip_acc = [0.704731, 0.812096, 0.874891, 0.891935, 0.875622, 0.918919, 0.890000]\n",
    "\n",
    "coda_conf = [0.756900, 0.770236, 0.837567, 0.835737, 0.830399, 0.928076]\n",
    "coda_acc = [0.964646, 0.967391, 1.000000, 0.986111, 1.000000, 1.000000]"
   ],
   "metadata": {
    "collapsed": false,
    "pycharm": {
     "name": "#%%\n"
    }
   }
  },
  {
   "cell_type": "code",
   "execution_count": 13,
   "outputs": [
    {
     "data": {
      "text/plain": "<Figure size 720x720 with 1 Axes>",
      "image/png": "[encoded data removed]"
     },
     "metadata": {
      "needs_background": "light"
     },
     "output_type": "display_data"
    }
   ],
   "source": [
    "# Font\n",
    "plt.rcParams.update({'font.size': 14})\n",
    "\n",
    "# Style\n",
    "acc_style = 'solid'\n",
    "conf_style = 'dashed'\n",
    "\n",
    "plt.figure(figsize=(10, 10))\n",
    "\n",
    "# X-axis\n",
    "x = [1, 2, 3, 4, 5, 6, 7]\n",
    "\n",
    "# Plot\n",
    "col_h,  = plt.plot(x[:-1], coda_acc, label=\"Human\", linestyle=acc_style, color='black')\n",
    "col_b, = plt.plot(x, bert_acc, label=\"BERT\", linestyle=acc_style, color='green')\n",
    "col_f, = plt.plot(x, flava_acc, label=\"FLAVA\", linestyle=acc_style, color='tomato')\n",
    "col_c, = plt.plot(x, clip_acc, label=\"CLIP\", linestyle=acc_style, color='dodgerblue')\n",
    "\n",
    "plt.plot(x[:-1], coda_conf, linestyle=conf_style, color='black')\n",
    "plt.plot(x, bert_conf, linestyle=conf_style, color='green')\n",
    "plt.plot(x, flava_conf, linestyle=conf_style, color='tomato')\n",
    "plt.plot(x, clip_conf, linestyle=conf_style, color='dodgerblue')\n",
    "\n",
    "color_legend = plt.legend(handles=[col_h, col_b, col_f, col_c], loc='lower right')\n",
    "plt.gca().add_artist(color_legend)\n",
    "\n",
    "# Dummy (legend)\n",
    "line_acc, = plt.plot([1], [1], label=\"R-Acc\", linestyle=acc_style, color='black')\n",
    "line_conf, = plt.plot([1], [1], label=\"Conf\", linestyle=conf_style, color='black')\n",
    "\n",
    "style_legend = plt.legend(handles=[line_acc, line_conf], loc='upper right')\n",
    "\n",
    "plt.xlabel('#Labels')\n",
    "plt.xticks(fontsize=12)\n",
    "plt.yticks(fontsize=12)\n",
    "\n",
    "plt.show()\n",
    "# plt.savefig('../visualize/col_card.pdf', bbox_inches='tight')\n"
   ],
   "metadata": {
    "collapsed": false,
    "pycharm": {
     "name": "#%%\n"
    }
   }
  },
  {
   "cell_type": "code",
   "execution_count": null,
   "outputs": [],
   "source": [],
   "metadata": {
    "collapsed": false,
    "pycharm": {
     "name": "#%%\n"
    }
   }
  }
 ],
 "metadata": {
  "kernelspec": {
   "display_name": "Python 3",
   "language": "python",
   "name": "python3"
  },
  "language_info": {
   "codemirror_mode": {
    "name": "ipython",
    "version": 2
   },
   "file_extension": ".py",
   "mimetype": "text/x-python",
   "name": "python",
   "nbconvert_exporter": "python",
   "pygments_lexer": "ipython2",
   "version": "2.7.6"
  }
 },
 "nbformat": 4,
 "nbformat_minor": 0
}